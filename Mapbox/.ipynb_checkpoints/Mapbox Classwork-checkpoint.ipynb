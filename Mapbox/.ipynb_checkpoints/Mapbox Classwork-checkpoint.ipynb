{
 "cells": [
  {
   "cell_type": "markdown",
   "metadata": {},
   "source": [
    "- Mapbox is the location data platform for mobile and web applications\n",
    "- Docs: https://plotly.com/python/reference/scattermapbox/\n",
    "- Docs: https://plotly.com/python/scattermapbox/"
   ]
  },
  {
   "cell_type": "code",
   "execution_count": 1,
   "metadata": {},
   "outputs": [],
   "source": [
    "# import packages\n",
    "import pandas as pd\n",
    "import plotly.express as px\n",
    "import numpy as np"
   ]
  },
  {
   "cell_type": "markdown",
   "metadata": {},
   "source": [
    "# Example 1: Plotly Express\n",
    "- Docs: https://plotly.com/python-api-reference/generated/plotly.express.scatter_mapbox.html"
   ]
  },
  {
   "cell_type": "code",
   "execution_count": 2,
   "metadata": {},
   "outputs": [
    {
     "data": {
      "text/html": [
       "<div>\n",
       "<style scoped>\n",
       "    .dataframe tbody tr th:only-of-type {\n",
       "        vertical-align: middle;\n",
       "    }\n",
       "\n",
       "    .dataframe tbody tr th {\n",
       "        vertical-align: top;\n",
       "    }\n",
       "\n",
       "    .dataframe thead th {\n",
       "        text-align: right;\n",
       "    }\n",
       "</style>\n",
       "<table border=\"1\" class=\"dataframe\">\n",
       "  <thead>\n",
       "    <tr style=\"text-align: right;\">\n",
       "      <th></th>\n",
       "      <th>device_id</th>\n",
       "      <th>gender</th>\n",
       "      <th>age</th>\n",
       "      <th>age_cate</th>\n",
       "      <th>timestamp</th>\n",
       "      <th>longitude</th>\n",
       "      <th>latitude</th>\n",
       "      <th>hour</th>\n",
       "      <th>lon_jitter</th>\n",
       "      <th>lat_jitter</th>\n",
       "      <th>size_for_plot</th>\n",
       "      <th>hour_oct</th>\n",
       "    </tr>\n",
       "  </thead>\n",
       "  <tbody>\n",
       "    <tr>\n",
       "      <th>0</th>\n",
       "      <td>2820430946322886294</td>\n",
       "      <td>M</td>\n",
       "      <td>21</td>\n",
       "      <td>A22-</td>\n",
       "      <td>2016-05-03 12:58:58</td>\n",
       "      <td>108.81</td>\n",
       "      <td>23.07</td>\n",
       "      <td>12</td>\n",
       "      <td>108.809717</td>\n",
       "      <td>23.071873</td>\n",
       "      <td>1</td>\n",
       "      <td>4</td>\n",
       "    </tr>\n",
       "    <tr>\n",
       "      <th>1</th>\n",
       "      <td>4546116091280128285</td>\n",
       "      <td>M</td>\n",
       "      <td>22</td>\n",
       "      <td>A22-</td>\n",
       "      <td>2016-05-05 18:21:11</td>\n",
       "      <td>110.23</td>\n",
       "      <td>20.04</td>\n",
       "      <td>18</td>\n",
       "      <td>110.235122</td>\n",
       "      <td>20.041807</td>\n",
       "      <td>1</td>\n",
       "      <td>6</td>\n",
       "    </tr>\n",
       "    <tr>\n",
       "      <th>2</th>\n",
       "      <td>7849111383031438568</td>\n",
       "      <td>M</td>\n",
       "      <td>34</td>\n",
       "      <td>A32-40</td>\n",
       "      <td>2016-05-03 19:51:30</td>\n",
       "      <td>123.49</td>\n",
       "      <td>41.71</td>\n",
       "      <td>19</td>\n",
       "      <td>123.491060</td>\n",
       "      <td>41.714264</td>\n",
       "      <td>1</td>\n",
       "      <td>6</td>\n",
       "    </tr>\n",
       "    <tr>\n",
       "      <th>3</th>\n",
       "      <td>-1762697191251584400</td>\n",
       "      <td>M</td>\n",
       "      <td>30</td>\n",
       "      <td>A29-31</td>\n",
       "      <td>2016-05-05 14:04:28</td>\n",
       "      <td>114.00</td>\n",
       "      <td>22.67</td>\n",
       "      <td>14</td>\n",
       "      <td>113.999172</td>\n",
       "      <td>22.670077</td>\n",
       "      <td>1</td>\n",
       "      <td>4</td>\n",
       "    </tr>\n",
       "    <tr>\n",
       "      <th>4</th>\n",
       "      <td>4750870437766392528</td>\n",
       "      <td>M</td>\n",
       "      <td>27</td>\n",
       "      <td>A27-28</td>\n",
       "      <td>2016-05-06 00:44:49</td>\n",
       "      <td>106.52</td>\n",
       "      <td>29.51</td>\n",
       "      <td>0</td>\n",
       "      <td>106.520306</td>\n",
       "      <td>29.512754</td>\n",
       "      <td>1</td>\n",
       "      <td>0</td>\n",
       "    </tr>\n",
       "  </tbody>\n",
       "</table>\n",
       "</div>"
      ],
      "text/plain": [
       "             device_id gender  age age_cate            timestamp  longitude  \\\n",
       "0  2820430946322886294      M   21     A22-  2016-05-03 12:58:58     108.81   \n",
       "1  4546116091280128285      M   22     A22-  2016-05-05 18:21:11     110.23   \n",
       "2  7849111383031438568      M   34   A32-40  2016-05-03 19:51:30     123.49   \n",
       "3 -1762697191251584400      M   30   A29-31  2016-05-05 14:04:28     114.00   \n",
       "4  4750870437766392528      M   27   A27-28  2016-05-06 00:44:49     106.52   \n",
       "\n",
       "   latitude  hour  lon_jitter  lat_jitter  size_for_plot  hour_oct  \n",
       "0     23.07    12  108.809717   23.071873              1         4  \n",
       "1     20.04    18  110.235122   20.041807              1         6  \n",
       "2     41.71    19  123.491060   41.714264              1         6  \n",
       "3     22.67    14  113.999172   22.670077              1         4  \n",
       "4     29.51     0  106.520306   29.512754              1         0  "
      ]
     },
     "execution_count": 2,
     "metadata": {},
     "output_type": "execute_result"
    }
   ],
   "source": [
    "# get data\n",
    "url = 'https://raw.githubusercontent.com/kefeimo/DataScienceBlog/master/2.geo_plot/df_mapbox_demo.csv'\n",
    "df= pd.read_csv(url)\n",
    "df.head()"
   ]
  },
  {
   "cell_type": "code",
   "execution_count": null,
   "metadata": {},
   "outputs": [],
   "source": []
  },
  {
   "cell_type": "code",
   "execution_count": null,
   "metadata": {},
   "outputs": [],
   "source": []
  },
  {
   "cell_type": "code",
   "execution_count": null,
   "metadata": {},
   "outputs": [],
   "source": []
  },
  {
   "cell_type": "code",
   "execution_count": null,
   "metadata": {},
   "outputs": [],
   "source": []
  },
  {
   "cell_type": "markdown",
   "metadata": {},
   "source": [
    "# Second example: Using Mapbox API\n",
    "Docs: https://docs.mapbox.com/mapbox-gl-js/api/\n",
    "- Using the API gives the user more customization options.\n",
    "- You can also define your own custom map styles and use them in your visualizations."
   ]
  },
  {
   "cell_type": "markdown",
   "metadata": {},
   "source": [
    "#### To generate a Mapbox API token, \n",
    "\n",
    "* Go to mapbox.com, \n",
    "* Signup for an account. \n",
    "* Once you log in, you can generate a token at https://account.mapbox.com/. \n",
    "* Press +create a token button and it will generate two tokens: public and secret. \n",
    "* Go to mapbox and create a style for your visualization.\n",
    "\n",
    "###### Note down the public token that you will need for use in plotly."
   ]
  },
  {
   "cell_type": "markdown",
   "metadata": {},
   "source": [
    "#### Style Specifications\n",
    "https://docs.mapbox.com/mapbox-gl-js/style-spec/\n",
    "- Mapbox style is a document that defines the visual appearance of a map: \n",
    "    - What data to draw, \n",
    "    - The order to draw it in\n",
    "    - How to style the data when drawing it.\n",
    "- A style document is a JSON object with specific root level and nested properties.\n",
    "- Mapbox allows you to create your own custom style for you maps."
   ]
  },
  {
   "cell_type": "markdown",
   "metadata": {},
   "source": [
    "#### Root Properties\n",
    "Root level properties of a Mapbox style specify the map's layers, tile sources and other resources, and default values for the initial camera position when not specified elsewhere.\n",
    "- https://docs.mapbox.com/mapbox-gl-js/style-spec/root/"
   ]
  },
  {
   "cell_type": "code",
   "execution_count": 17,
   "metadata": {},
   "outputs": [],
   "source": [
    "# Mapbox API Token\n",
    "import json\n",
    "with open('logins.json', 'r') as obj:\n",
    "    data = json.load(obj)\n",
    "mapbox_access_token = data['token']"
   ]
  },
  {
   "cell_type": "code",
   "execution_count": null,
   "metadata": {},
   "outputs": [],
   "source": []
  },
  {
   "cell_type": "code",
   "execution_count": null,
   "metadata": {},
   "outputs": [],
   "source": []
  },
  {
   "cell_type": "code",
   "execution_count": null,
   "metadata": {},
   "outputs": [],
   "source": []
  },
  {
   "cell_type": "code",
   "execution_count": null,
   "metadata": {},
   "outputs": [],
   "source": []
  },
  {
   "cell_type": "code",
   "execution_count": null,
   "metadata": {},
   "outputs": [],
   "source": []
  },
  {
   "cell_type": "code",
   "execution_count": null,
   "metadata": {},
   "outputs": [],
   "source": []
  },
  {
   "cell_type": "code",
   "execution_count": null,
   "metadata": {},
   "outputs": [],
   "source": []
  },
  {
   "cell_type": "markdown",
   "metadata": {},
   "source": [
    "# Third example: \n",
    "* color (similar to hue in seaborn)\n",
    "* size\n",
    "* zoom, center, (control the first view when the plot is rendered)\n",
    "* width, height"
   ]
  },
  {
   "cell_type": "markdown",
   "metadata": {},
   "source": [
    "# Example 4  Mapbox using GPS data\n",
    "\n",
    "#### Data "
   ]
  },
  {
   "cell_type": "code",
   "execution_count": null,
   "metadata": {},
   "outputs": [],
   "source": []
  },
  {
   "cell_type": "code",
   "execution_count": null,
   "metadata": {},
   "outputs": [],
   "source": []
  },
  {
   "cell_type": "code",
   "execution_count": null,
   "metadata": {},
   "outputs": [],
   "source": []
  },
  {
   "cell_type": "code",
   "execution_count": null,
   "metadata": {},
   "outputs": [],
   "source": []
  },
  {
   "cell_type": "code",
   "execution_count": null,
   "metadata": {},
   "outputs": [],
   "source": []
  },
  {
   "cell_type": "markdown",
   "metadata": {},
   "source": [
    "# Example 5 Counties of Kenya¶"
   ]
  },
  {
   "cell_type": "code",
   "execution_count": null,
   "metadata": {},
   "outputs": [],
   "source": []
  },
  {
   "cell_type": "code",
   "execution_count": null,
   "metadata": {},
   "outputs": [],
   "source": []
  },
  {
   "cell_type": "code",
   "execution_count": null,
   "metadata": {},
   "outputs": [],
   "source": []
  },
  {
   "cell_type": "markdown",
   "metadata": {},
   "source": [
    "# Choropleths\n",
    "\n",
    "- A choropleth map is a map where colored or shaded polygons represent the spatial variation in magnitude of an attribute. \n",
    "- For example, a map that shows the population density in the year 2007 for Kenya.\n",
    "- Docs: https://plotly.com/python/reference/choroplethmapbox/\n",
    "- Docs: https://plotly.com/python-api-reference/generated/plotly.express.choropleth_mapbox.html"
   ]
  },
  {
   "cell_type": "code",
   "execution_count": null,
   "metadata": {},
   "outputs": [],
   "source": []
  },
  {
   "cell_type": "code",
   "execution_count": null,
   "metadata": {},
   "outputs": [],
   "source": []
  },
  {
   "cell_type": "code",
   "execution_count": null,
   "metadata": {},
   "outputs": [],
   "source": []
  },
  {
   "cell_type": "code",
   "execution_count": null,
   "metadata": {},
   "outputs": [],
   "source": []
  },
  {
   "cell_type": "markdown",
   "metadata": {},
   "source": [
    "### Choropleth_mapbox\n",
    "- Dataset: Montreal mayoral election.\n",
    "- Docs: https://plotly.github.io/plotly.py-docs/generated/plotly.express.choropleth_mapbox.html\n",
    "- Docs: https://plotly.com/python/mapbox-county-choropleth/"
   ]
  },
  {
   "cell_type": "code",
   "execution_count": null,
   "metadata": {},
   "outputs": [],
   "source": []
  }
 ],
 "metadata": {
  "kernelspec": {
   "display_name": "Python 3",
   "language": "python",
   "name": "python3"
  },
  "language_info": {
   "codemirror_mode": {
    "name": "ipython",
    "version": 3
   },
   "file_extension": ".py",
   "mimetype": "text/x-python",
   "name": "python",
   "nbconvert_exporter": "python",
   "pygments_lexer": "ipython3",
   "version": "3.8.8"
  }
 },
 "nbformat": 4,
 "nbformat_minor": 4
}
