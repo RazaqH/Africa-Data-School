{
 "cells": [
  {
   "cell_type": "code",
   "execution_count": 5,
   "metadata": {},
   "outputs": [],
   "source": [
    "import requests\n",
    "import json\n",
    "import pandas as pd\n",
    "import plotly.graph_objects as go"
   ]
  },
  {
   "cell_type": "markdown",
   "metadata": {},
   "source": [
    "## Coin API\n",
    "- Coin API is a high-quality, one-stop-solution market data provider for cryptocurrency markets.\n",
    "- https://docs.coinapi.io/?python#timeseries-data-get"
   ]
  },
  {
   "cell_type": "code",
   "execution_count": 9,
   "metadata": {},
   "outputs": [],
   "source": [
    "url = 'https://rest.coinapi.io/v1/ohlcv/BTC/USD/latest?period_id=1DAY'\n",
    "apikey='88BF8257-E755-46D1-B79B-231FA32B11C9'\n",
    "headers = {'X-CoinAPI-Key': apikey}"
   ]
  },
  {
   "cell_type": "code",
   "execution_count": 10,
   "metadata": {},
   "outputs": [
    {
     "data": {
      "text/plain": [
       "<Response [429]>"
      ]
     },
     "execution_count": 10,
     "metadata": {},
     "output_type": "execute_result"
    }
   ],
   "source": [
    "response = requests.get(url, headers=headers)\n",
    "response"
   ]
  },
  {
   "cell_type": "code",
   "execution_count": 4,
   "metadata": {},
   "outputs": [
    {
     "data": {
      "text/plain": [
       "'{\\n  \"error\": \"Too many requests - You have exceeded your API key last 24 hour requests executed limit, please wait for new requests or contact support for upgrading your existing plan or enabling overage.\",\\n  \"faq_0\": \"Q: How requests are calculated? A: The request is a single API call to our REST API without \\\\u0060limit\\\\u0060 parameter. Or with \\\\u0060limit\\\\u0060 parameter, the request is counted every 100 data points returned by the API.\",\\n  \"faq_1\": \"Q: How I can monitor number of requests left? A: Every authenticated API call providing information about the current state of the limits in the HTTP response headers, more info here: https://docs.coinapi.io/#request-limits\",\\n  \"faq_2\": \"Q: I\\\\u0027m on Professional plan. How I can have more requests? A: Please contact support at the https://www.coinapi.io/support for more information.\",\\n  \"faq_3\": \"Q: I\\\\u0027m on free plan and I didn\\\\u0027t executed 100 requests yet and got 429 error. A: Free plan contains additional limitations to prevent fraud and usage of the multiple free API keys to obey the limits.\"\\n}'"
      ]
     },
     "execution_count": 4,
     "metadata": {},
     "output_type": "execute_result"
    }
   ],
   "source": [
    "response.text"
   ]
  },
  {
   "cell_type": "code",
   "execution_count": 11,
   "metadata": {},
   "outputs": [
    {
     "data": {
      "text/plain": [
       "[{'time_period_start': '2021-09-07T00:00:00.0000000Z',\n",
       "  'time_period_end': '2021-09-08T00:00:00.0000000Z',\n",
       "  'time_open': '2021-09-07T00:00:00.0971670Z',\n",
       "  'time_close': '2021-09-07T11:47:28.2709430Z',\n",
       "  'price_open': 52698.8,\n",
       "  'price_high': 52959.0,\n",
       "  'price_low': 50492.638,\n",
       "  'price_close': 50983.1,\n",
       "  'volume_traded': 14479.03539256,\n",
       "  'trades_count': 240889},\n",
       " {'time_period_start': '2021-09-06T00:00:00.0000000Z',\n",
       "  'time_period_end': '2021-09-07T00:00:00.0000000Z',\n",
       "  'time_open': '2021-09-06T00:00:00.1340000Z',\n",
       "  'time_close': '2021-09-06T23:59:59.5066940Z',\n",
       "  'price_open': 51768.0,\n",
       "  'price_high': 52813.5,\n",
       "  'price_low': 51003.37,\n",
       "  'price_close': 52698.81,\n",
       "  'volume_traded': 19762.06712678,\n",
       "  'trades_count': 387336},\n",
       " {'time_period_start': '2021-09-05T00:00:00.0000000Z',\n",
       "  'time_period_end': '2021-09-06T00:00:00.0000000Z',\n",
       "  'time_open': '2021-09-05T00:00:00.0281670Z',\n",
       "  'time_close': '2021-09-05T23:59:59.9718840Z',\n",
       "  'price_open': 49944.89,\n",
       "  'price_high': 51921.0,\n",
       "  'price_low': 49483.721,\n",
       "  'price_close': 51789.17,\n",
       "  'volume_traded': 14932.678938381,\n",
       "  'trades_count': 314362},\n",
       " {'time_period_start': '2021-09-04T00:00:00.0000000Z',\n",
       "  'time_period_end': '2021-09-05T00:00:00.0000000Z',\n",
       "  'time_open': '2021-09-04T00:00:00.1316060Z',\n",
       "  'time_close': '2021-09-04T23:59:59.8250550Z',\n",
       "  'price_open': 50025.0,\n",
       "  'price_high': 50570.94,\n",
       "  'price_low': 49363.6,\n",
       "  'price_close': 49942.98,\n",
       "  'volume_traded': 14088.296014994,\n",
       "  'trades_count': 325260},\n",
       " {'time_period_start': '2021-09-03T00:00:00.0000000Z',\n",
       "  'time_period_end': '2021-09-04T00:00:00.0000000Z',\n",
       "  'time_open': '2021-09-03T00:00:00.1074330Z',\n",
       "  'time_close': '2021-09-03T23:59:59.9330000Z',\n",
       "  'price_open': 49279.38,\n",
       "  'price_high': 51094.0,\n",
       "  'price_low': 48333.0,\n",
       "  'price_close': 50018.6,\n",
       "  'volume_traded': 28801.390894767,\n",
       "  'trades_count': 463464},\n",
       " {'time_period_start': '2021-09-02T00:00:00.0000000Z',\n",
       "  'time_period_end': '2021-09-03T00:00:00.0000000Z',\n",
       "  'time_open': '2021-09-02T00:00:00.0916860Z',\n",
       "  'time_close': '2021-09-02T23:59:59.8018670Z',\n",
       "  'price_open': 48834.27,\n",
       "  'price_high': 50408.447,\n",
       "  'price_low': 48615.0,\n",
       "  'price_close': 49279.37,\n",
       "  'volume_traded': 25121.766222118,\n",
       "  'trades_count': 415585},\n",
       " {'time_period_start': '2021-09-01T00:00:00.0000000Z',\n",
       "  'time_period_end': '2021-09-02T00:00:00.0000000Z',\n",
       "  'time_open': '2021-09-01T00:00:00.1026030Z',\n",
       "  'time_close': '2021-09-01T23:59:59.4762440Z',\n",
       "  'price_open': 47110.33,\n",
       "  'price_high': 49141.907,\n",
       "  'price_low': 46515.5,\n",
       "  'price_close': 48839.86,\n",
       "  'volume_traded': 24478.82296642,\n",
       "  'trades_count': 473809},\n",
       " {'time_period_start': '2021-08-31T00:00:00.0000000Z',\n",
       "  'time_period_end': '2021-09-01T00:00:00.0000000Z',\n",
       "  'time_open': '2021-08-31T00:00:00.1098130Z',\n",
       "  'time_close': '2021-08-31T23:59:59.9332370Z',\n",
       "  'price_open': 46996.8,\n",
       "  'price_high': 48274.5,\n",
       "  'price_low': 46698.5,\n",
       "  'price_close': 47112.5,\n",
       "  'volume_traded': 24031.361122532,\n",
       "  'trades_count': 438035},\n",
       " {'time_period_start': '2021-08-30T00:00:00.0000000Z',\n",
       "  'time_period_end': '2021-08-31T00:00:00.0000000Z',\n",
       "  'time_open': '2021-08-30T00:00:00.0852090Z',\n",
       "  'time_close': '2021-08-30T23:59:59.4761890Z',\n",
       "  'price_open': 48802.58,\n",
       "  'price_high': 48916.5,\n",
       "  'price_low': 46828.0,\n",
       "  'price_close': 46993.71,\n",
       "  'volume_traded': 23450.868187218,\n",
       "  'trades_count': 374276},\n",
       " {'time_period_start': '2021-08-29T00:00:00.0000000Z',\n",
       "  'time_period_end': '2021-08-30T00:00:00.0000000Z',\n",
       "  'time_open': '2021-08-29T00:00:00.1228920Z',\n",
       "  'time_close': '2021-08-29T23:59:59.5856660Z',\n",
       "  'price_open': 48942.89,\n",
       "  'price_high': 49685.0,\n",
       "  'price_low': 47768.5,\n",
       "  'price_close': 48802.58,\n",
       "  'volume_traded': 13524.896185821,\n",
       "  'trades_count': 275541},\n",
       " {'time_period_start': '2021-08-28T00:00:00.0000000Z',\n",
       "  'time_period_end': '2021-08-29T00:00:00.0000000Z',\n",
       "  'time_open': '2021-08-28T00:00:00.1357120Z',\n",
       "  'time_close': '2021-08-28T23:59:59.9420530Z',\n",
       "  'price_open': 49081.08,\n",
       "  'price_high': 49325.0,\n",
       "  'price_low': 48244.88,\n",
       "  'price_close': 48942.94,\n",
       "  'volume_traded': 9682.703070487,\n",
       "  'trades_count': 238840},\n",
       " {'time_period_start': '2021-08-27T00:00:00.0000000Z',\n",
       "  'time_period_end': '2021-08-28T00:00:00.0000000Z',\n",
       "  'time_open': '2021-08-27T00:00:00.0895040Z',\n",
       "  'time_close': '2021-08-27T23:59:59.7716990Z',\n",
       "  'price_open': 46851.47,\n",
       "  'price_high': 49197.64,\n",
       "  'price_low': 46361.01,\n",
       "  'price_close': 49077.57,\n",
       "  'volume_traded': 20289.60663621,\n",
       "  'trades_count': 356584},\n",
       " {'time_period_start': '2021-08-26T00:00:00.0000000Z',\n",
       "  'time_period_end': '2021-08-27T00:00:00.0000000Z',\n",
       "  'time_open': '2021-08-26T00:00:02.3625360Z',\n",
       "  'time_close': '2021-08-26T23:59:59.7300000Z',\n",
       "  'price_open': 48991.57,\n",
       "  'price_high': 49387.6,\n",
       "  'price_low': 46284.8,\n",
       "  'price_close': 46848.9,\n",
       "  'volume_traded': 24557.838636638,\n",
       "  'trades_count': 366262},\n",
       " {'time_period_start': '2021-08-25T00:00:00.0000000Z',\n",
       "  'time_period_end': '2021-08-26T00:00:00.0000000Z',\n",
       "  'time_open': '2021-08-25T00:00:00.0892780Z',\n",
       "  'time_close': '2021-08-25T23:59:59.9925350Z',\n",
       "  'price_open': 47682.45,\n",
       "  'price_high': 49277.0,\n",
       "  'price_low': 47100.0,\n",
       "  'price_close': 48987.33,\n",
       "  'volume_traded': 19822.688347661,\n",
       "  'trades_count': 327645},\n",
       " {'time_period_start': '2021-08-24T00:00:00.0000000Z',\n",
       "  'time_period_end': '2021-08-25T00:00:00.0000000Z',\n",
       "  'time_open': '2021-08-24T00:00:00.4487660Z',\n",
       "  'time_close': '2021-08-24T23:59:59.9689140Z',\n",
       "  'price_open': 49504.53,\n",
       "  'price_high': 49893.5,\n",
       "  'price_low': 47593.66,\n",
       "  'price_close': 47682.45,\n",
       "  'volume_traded': 24136.499439973,\n",
       "  'trades_count': 381025},\n",
       " {'time_period_start': '2021-08-23T00:00:00.0000000Z',\n",
       "  'time_period_end': '2021-08-24T00:00:00.0000000Z',\n",
       "  'time_open': '2021-08-23T00:00:00.1521840Z',\n",
       "  'time_close': '2021-08-23T23:59:59.9605750Z',\n",
       "  'price_open': 49284.38,\n",
       "  'price_high': 50562.11,\n",
       "  'price_low': 49010.0,\n",
       "  'price_close': 49506.5,\n",
       "  'volume_traded': 23578.72325941,\n",
       "  'trades_count': 381214},\n",
       " {'time_period_start': '2021-08-22T00:00:00.0000000Z',\n",
       "  'time_period_end': '2021-08-23T00:00:00.0000000Z',\n",
       "  'time_open': '2021-08-22T00:00:00.0974590Z',\n",
       "  'time_close': '2021-08-22T23:59:59.5840870Z',\n",
       "  'price_open': 48870.21,\n",
       "  'price_high': 49567.1,\n",
       "  'price_low': 48058.1,\n",
       "  'price_close': 49284.63,\n",
       "  'volume_traded': 13163.471280858,\n",
       "  'trades_count': 268538},\n",
       " {'time_period_start': '2021-08-21T00:00:00.0000000Z',\n",
       "  'time_period_end': '2021-08-22T00:00:00.0000000Z',\n",
       "  'time_open': '2021-08-21T00:00:00.1042970Z',\n",
       "  'time_close': '2021-08-21T23:59:59.3907560Z',\n",
       "  'price_open': 49349.99,\n",
       "  'price_high': 49835.0,\n",
       "  'price_low': 48237.5,\n",
       "  'price_close': 48867.02,\n",
       "  'volume_traded': 19732.52432195,\n",
       "  'trades_count': 358132},\n",
       " {'time_period_start': '2021-08-20T00:00:00.0000000Z',\n",
       "  'time_period_end': '2021-08-21T00:00:00.0000000Z',\n",
       "  'time_open': '2021-08-20T00:00:00.1219130Z',\n",
       "  'time_close': '2021-08-20T23:59:59.9438460Z',\n",
       "  'price_open': 46769.02,\n",
       "  'price_high': 49436.1,\n",
       "  'price_low': 46642.0,\n",
       "  'price_close': 49342.4,\n",
       "  'volume_traded': 28045.948855793,\n",
       "  'trades_count': 431343},\n",
       " {'time_period_start': '2021-08-19T00:00:00.0000000Z',\n",
       "  'time_period_end': '2021-08-20T00:00:00.0000000Z',\n",
       "  'time_open': '2021-08-19T00:00:00.4434580Z',\n",
       "  'time_close': '2021-08-19T23:59:59.3550550Z',\n",
       "  'price_open': 44709.1,\n",
       "  'price_high': 47114.99,\n",
       "  'price_low': 43935.54,\n",
       "  'price_close': 46765.87,\n",
       "  'volume_traded': 25129.911633954,\n",
       "  'trades_count': 372233},\n",
       " {'time_period_start': '2021-08-18T00:00:00.0000000Z',\n",
       "  'time_period_end': '2021-08-19T00:00:00.0000000Z',\n",
       "  'time_open': '2021-08-18T00:00:00.0748180Z',\n",
       "  'time_close': '2021-08-18T23:59:59.9826650Z',\n",
       "  'price_open': 44675.34,\n",
       "  'price_high': 46041.62,\n",
       "  'price_low': 44216.47,\n",
       "  'price_close': 44707.98,\n",
       "  'volume_traded': 22112.969453351,\n",
       "  'trades_count': 356365},\n",
       " {'time_period_start': '2021-08-17T00:00:00.0000000Z',\n",
       "  'time_period_end': '2021-08-18T00:00:00.0000000Z',\n",
       "  'time_open': '2021-08-17T00:00:00.0745290Z',\n",
       "  'time_close': '2021-08-17T23:59:59.8169890Z',\n",
       "  'price_open': 45903.22,\n",
       "  'price_high': 47185.5,\n",
       "  'price_low': 44401.2,\n",
       "  'price_close': 44671.58,\n",
       "  'volume_traded': 28865.589768438,\n",
       "  'trades_count': 427052},\n",
       " {'time_period_start': '2021-08-16T00:00:00.0000000Z',\n",
       "  'time_period_end': '2021-08-17T00:00:00.0000000Z',\n",
       "  'time_open': '2021-08-16T00:00:00.1257360Z',\n",
       "  'time_close': '2021-08-16T23:59:59.3305050Z',\n",
       "  'price_open': 47014.38,\n",
       "  'price_high': 48076.52,\n",
       "  'price_low': 45654.14,\n",
       "  'price_close': 45902.46,\n",
       "  'volume_traded': 22948.6680218,\n",
       "  'trades_count': 403815},\n",
       " {'time_period_start': '2021-08-15T00:00:00.0000000Z',\n",
       "  'time_period_end': '2021-08-16T00:00:00.0000000Z',\n",
       "  'time_open': '2021-08-15T00:00:00.1232040Z',\n",
       "  'time_close': '2021-08-15T23:59:58.9699860Z',\n",
       "  'price_open': 47109.64,\n",
       "  'price_high': 47440.5,\n",
       "  'price_low': 45497.5,\n",
       "  'price_close': 47014.49,\n",
       "  'volume_traded': 16715.11762129,\n",
       "  'trades_count': 333354},\n",
       " {'time_period_start': '2021-08-14T00:00:00.0000000Z',\n",
       "  'time_period_end': '2021-08-15T00:00:00.0000000Z',\n",
       "  'time_open': '2021-08-14T00:00:00.0934680Z',\n",
       "  'time_close': '2021-08-14T23:59:59.9809620Z',\n",
       "  'price_open': 47833.64,\n",
       "  'price_high': 48240.5,\n",
       "  'price_low': 46000.0,\n",
       "  'price_close': 47109.65,\n",
       "  'volume_traded': 18450.176941356,\n",
       "  'trades_count': 319870},\n",
       " {'time_period_start': '2021-08-13T00:00:00.0000000Z',\n",
       "  'time_period_end': '2021-08-14T00:00:00.0000000Z',\n",
       "  'time_open': '2021-08-13T00:00:00.1087160Z',\n",
       "  'time_close': '2021-08-13T23:59:58.9261030Z',\n",
       "  'price_open': 44422.15,\n",
       "  'price_high': 47953.9,\n",
       "  'price_low': 44242.0,\n",
       "  'price_close': 47833.64,\n",
       "  'volume_traded': 25673.717801488,\n",
       "  'trades_count': 414502},\n",
       " {'time_period_start': '2021-08-12T00:00:00.0000000Z',\n",
       "  'time_period_end': '2021-08-13T00:00:00.0000000Z',\n",
       "  'time_open': '2021-08-12T00:00:00.1070000Z',\n",
       "  'time_close': '2021-08-12T23:59:59.9775460Z',\n",
       "  'price_open': 45570.0,\n",
       "  'price_high': 46236.7,\n",
       "  'price_low': 43714.36,\n",
       "  'price_close': 44422.14,\n",
       "  'volume_traded': 27734.229831376,\n",
       "  'trades_count': 433197},\n",
       " {'time_period_start': '2021-08-11T00:00:00.0000000Z',\n",
       "  'time_period_end': '2021-08-12T00:00:00.0000000Z',\n",
       "  'time_open': '2021-08-11T00:00:00.1060380Z',\n",
       "  'time_close': '2021-08-11T23:59:59.8730000Z',\n",
       "  'price_open': 45601.82,\n",
       "  'price_high': 46788.0,\n",
       "  'price_low': 45350.74,\n",
       "  'price_close': 45539.85,\n",
       "  'volume_traded': 24483.358856747,\n",
       "  'trades_count': 397713},\n",
       " {'time_period_start': '2021-08-10T00:00:00.0000000Z',\n",
       "  'time_period_end': '2021-08-11T00:00:00.0000000Z',\n",
       "  'time_open': '2021-08-10T00:00:00.0730520Z',\n",
       "  'time_close': '2021-08-10T23:59:59.9720000Z',\n",
       "  'price_open': 46280.0,\n",
       "  'price_high': 46759.0,\n",
       "  'price_low': 44642.21,\n",
       "  'price_close': 45596.74,\n",
       "  'volume_traded': 27530.337473584,\n",
       "  'trades_count': 422799},\n",
       " {'time_period_start': '2021-08-09T00:00:00.0000000Z',\n",
       "  'time_period_end': '2021-08-10T00:00:00.0000000Z',\n",
       "  'time_open': '2021-08-09T00:00:00.0220230Z',\n",
       "  'time_close': '2021-08-09T23:59:59.1050000Z',\n",
       "  'price_open': 43829.15,\n",
       "  'price_high': 46529.02,\n",
       "  'price_low': 42784.0,\n",
       "  'price_close': 46279.23,\n",
       "  'volume_traded': 44023.931431923,\n",
       "  'trades_count': 530031},\n",
       " {'time_period_start': '2021-08-08T00:00:00.0000000Z',\n",
       "  'time_period_end': '2021-08-09T00:00:00.0000000Z',\n",
       "  'time_open': '2021-08-08T00:00:00.0937380Z',\n",
       "  'time_close': '2021-08-08T23:59:59.4300000Z',\n",
       "  'price_open': 44628.11,\n",
       "  'price_high': 45386.81,\n",
       "  'price_low': 43131.97,\n",
       "  'price_close': 43845.6,\n",
       "  'volume_traded': 37350.581177918,\n",
       "  'trades_count': 492108},\n",
       " {'time_period_start': '2021-08-07T00:00:00.0000000Z',\n",
       "  'time_period_end': '2021-08-08T00:00:00.0000000Z',\n",
       "  'time_open': '2021-08-07T00:00:00.8143690Z',\n",
       "  'time_close': '2021-08-07T23:59:59.8847920Z',\n",
       "  'price_open': 42869.59,\n",
       "  'price_high': 44763.14,\n",
       "  'price_low': 42251.0,\n",
       "  'price_close': 44637.34,\n",
       "  'volume_traded': 39788.728765488,\n",
       "  'trades_count': 563037},\n",
       " {'time_period_start': '2021-08-06T00:00:00.0000000Z',\n",
       "  'time_period_end': '2021-08-07T00:00:00.0000000Z',\n",
       "  'time_open': '2021-08-06T00:00:00.1144260Z',\n",
       "  'time_close': '2021-08-06T23:59:59.8905680Z',\n",
       "  'price_open': 40888.73,\n",
       "  'price_high': 43401.9,\n",
       "  'price_low': 39834.0,\n",
       "  'price_close': 42869.58,\n",
       "  'volume_traded': 39227.929613987,\n",
       "  'trades_count': 486223},\n",
       " {'time_period_start': '2021-08-05T00:00:00.0000000Z',\n",
       "  'time_period_end': '2021-08-06T00:00:00.0000000Z',\n",
       "  'time_open': '2021-08-05T00:00:00.0827130Z',\n",
       "  'time_close': '2021-08-05T23:59:59.9986220Z',\n",
       "  'price_open': 39718.9,\n",
       "  'price_high': 41447.89,\n",
       "  'price_low': 37276.805,\n",
       "  'price_close': 40888.74,\n",
       "  'volume_traded': 51262.311047373,\n",
       "  'trades_count': 579432},\n",
       " {'time_period_start': '2021-08-04T00:00:00.0000000Z',\n",
       "  'time_period_end': '2021-08-05T00:00:00.0000000Z',\n",
       "  'time_open': '2021-08-04T00:00:00.1586710Z',\n",
       "  'time_close': '2021-08-04T23:59:59.4814210Z',\n",
       "  'price_open': 38189.4,\n",
       "  'price_high': 39973.94,\n",
       "  'price_low': 37425.0,\n",
       "  'price_close': 39722.41,\n",
       "  'volume_traded': 31741.628153154,\n",
       "  'trades_count': 375257},\n",
       " {'time_period_start': '2021-08-03T00:00:00.0000000Z',\n",
       "  'time_period_end': '2021-08-04T00:00:00.0000000Z',\n",
       "  'time_open': '2021-08-03T00:00:00.2090250Z',\n",
       "  'time_close': '2021-08-03T23:59:59.7646010Z',\n",
       "  'price_open': 39149.59,\n",
       "  'price_high': 39792.83,\n",
       "  'price_low': 37558.09,\n",
       "  'price_close': 38191.44,\n",
       "  'volume_traded': 32258.595173549,\n",
       "  'trades_count': 375228},\n",
       " {'time_period_start': '2021-08-02T00:00:00.0000000Z',\n",
       "  'time_period_end': '2021-08-03T00:00:00.0000000Z',\n",
       "  'time_open': '2021-08-02T00:00:00.1069680Z',\n",
       "  'time_close': '2021-08-02T23:59:59.9000000Z',\n",
       "  'price_open': 39859.18,\n",
       "  'price_high': 40464.5,\n",
       "  'price_low': 38660.01,\n",
       "  'price_close': 39152.3,\n",
       "  'volume_traded': 27204.777603285,\n",
       "  'trades_count': 347668},\n",
       " {'time_period_start': '2021-08-01T00:00:00.0000000Z',\n",
       "  'time_period_end': '2021-08-02T00:00:00.0000000Z',\n",
       "  'time_open': '2021-08-01T00:00:00.0046010Z',\n",
       "  'time_close': '2021-08-01T23:59:59.7328700Z',\n",
       "  'price_open': 41499.0,\n",
       "  'price_high': 42642.5,\n",
       "  'price_low': 39392.0,\n",
       "  'price_close': 39865.41,\n",
       "  'volume_traded': 22106.915658911,\n",
       "  'trades_count': 322750},\n",
       " {'time_period_start': '2021-07-31T00:00:00.0000000Z',\n",
       "  'time_period_end': '2021-08-01T00:00:00.0000000Z',\n",
       "  'time_open': '2021-07-31T00:00:00.1001710Z',\n",
       "  'time_close': '2021-07-31T23:59:59.9980000Z',\n",
       "  'price_open': 42233.66,\n",
       "  'price_high': 42460.0,\n",
       "  'price_low': 41007.51,\n",
       "  'price_close': 41488.5,\n",
       "  'volume_traded': 18577.534358189,\n",
       "  'trades_count': 275258},\n",
       " {'time_period_start': '2021-07-30T00:00:00.0000000Z',\n",
       "  'time_period_end': '2021-07-31T00:00:00.0000000Z',\n",
       "  'time_open': '2021-07-30T00:00:00.0818940Z',\n",
       "  'time_close': '2021-07-30T23:59:59.8681130Z',\n",
       "  'price_open': 40039.44,\n",
       "  'price_high': 42335.5,\n",
       "  'price_low': 38304.0,\n",
       "  'price_close': 42237.95,\n",
       "  'volume_traded': 33226.214534989,\n",
       "  'trades_count': 390376},\n",
       " {'time_period_start': '2021-07-29T00:00:00.0000000Z',\n",
       "  'time_period_end': '2021-07-30T00:00:00.0000000Z',\n",
       "  'time_open': '2021-07-29T00:00:00.1000990Z',\n",
       "  'time_close': '2021-07-29T23:59:58.0830000Z',\n",
       "  'price_open': 40035.1,\n",
       "  'price_high': 40665.0,\n",
       "  'price_low': 39229.47,\n",
       "  'price_close': 40000.0,\n",
       "  'volume_traded': 25156.73362191,\n",
       "  'trades_count': 314277},\n",
       " {'time_period_start': '2021-07-28T00:00:00.0000000Z',\n",
       "  'time_period_end': '2021-07-29T00:00:00.0000000Z',\n",
       "  'time_open': '2021-07-28T00:00:00.0957650Z',\n",
       "  'time_close': '2021-07-28T23:59:59.6568240Z',\n",
       "  'price_open': 39475.99,\n",
       "  'price_high': 40944.5,\n",
       "  'price_low': 38786.125,\n",
       "  'price_close': 40035.1,\n",
       "  'volume_traded': 55195.774032749,\n",
       "  'trades_count': 520962},\n",
       " {'time_period_start': '2021-07-27T00:00:00.0000000Z',\n",
       "  'time_period_end': '2021-07-28T00:00:00.0000000Z',\n",
       "  'time_open': '2021-07-27T00:00:00.0240080Z',\n",
       "  'time_close': '2021-07-27T23:59:59.8106700Z',\n",
       "  'price_open': 37262.76,\n",
       "  'price_high': 39579.0,\n",
       "  'price_low': 36386.19,\n",
       "  'price_close': 39470.48,\n",
       "  'volume_traded': 47127.234402714,\n",
       "  'trades_count': 432514},\n",
       " {'time_period_start': '2021-07-26T00:00:00.0000000Z',\n",
       "  'time_period_end': '2021-07-27T00:00:00.0000000Z',\n",
       "  'time_open': '2021-07-26T00:00:00.0927010Z',\n",
       "  'time_close': '2021-07-26T23:59:59.4551010Z',\n",
       "  'price_open': 35428.25,\n",
       "  'price_high': 40593.93,\n",
       "  'price_low': 35251.54,\n",
       "  'price_close': 37262.77,\n",
       "  'volume_traded': 83323.606005987,\n",
       "  'trades_count': 749918},\n",
       " {'time_period_start': '2021-07-25T00:00:00.0000000Z',\n",
       "  'time_period_end': '2021-07-26T00:00:00.0000000Z',\n",
       "  'time_open': '2021-07-25T00:00:00.0934210Z',\n",
       "  'time_close': '2021-07-25T23:59:59.9637290Z',\n",
       "  'price_open': 34291.67,\n",
       "  'price_high': 35451.04,\n",
       "  'price_low': 33869.9,\n",
       "  'price_close': 35428.26,\n",
       "  'volume_traded': 19933.367115468,\n",
       "  'trades_count': 256238},\n",
       " {'time_period_start': '2021-07-24T00:00:00.0000000Z',\n",
       "  'time_period_end': '2021-07-25T00:00:00.0000000Z',\n",
       "  'time_open': '2021-07-24T00:00:00.0776790Z',\n",
       "  'time_close': '2021-07-24T23:59:59.4040000Z',\n",
       "  'price_open': 33647.27,\n",
       "  'price_high': 34534.32,\n",
       "  'price_low': 33419.31,\n",
       "  'price_close': 34301.78,\n",
       "  'volume_traded': 17021.601790423,\n",
       "  'trades_count': 261653},\n",
       " {'time_period_start': '2021-07-23T00:00:00.0000000Z',\n",
       "  'time_period_end': '2021-07-24T00:00:00.0000000Z',\n",
       "  'time_open': '2021-07-23T00:00:00.0851710Z',\n",
       "  'time_close': '2021-07-23T23:59:59.6383130Z',\n",
       "  'price_open': 32287.75,\n",
       "  'price_high': 33684.17,\n",
       "  'price_low': 31993.5,\n",
       "  'price_close': 33647.26,\n",
       "  'volume_traded': 18654.719450678,\n",
       "  'trades_count': 236818},\n",
       " {'time_period_start': '2021-07-22T00:00:00.0000000Z',\n",
       "  'time_period_end': '2021-07-23T00:00:00.0000000Z',\n",
       "  'time_open': '2021-07-22T00:00:00.0910860Z',\n",
       "  'time_close': '2021-07-22T23:59:59.5001730Z',\n",
       "  'price_open': 32152.68,\n",
       "  'price_high': 32611.84,\n",
       "  'price_low': 31703.15,\n",
       "  'price_close': 32287.74,\n",
       "  'volume_traded': 17198.969787413,\n",
       "  'trades_count': 210327},\n",
       " {'time_period_start': '2021-07-21T00:00:00.0000000Z',\n",
       "  'time_period_end': '2021-07-22T00:00:00.0000000Z',\n",
       "  'time_open': '2021-07-21T00:00:00.0707350Z',\n",
       "  'time_close': '2021-07-21T23:59:59.7010000Z',\n",
       "  'price_open': 29796.15,\n",
       "  'price_high': 32950.0,\n",
       "  'price_low': 29499.0,\n",
       "  'price_close': 32147.5,\n",
       "  'volume_traded': 39975.666599953,\n",
       "  'trades_count': 408772},\n",
       " {'time_period_start': '2021-07-20T00:00:00.0000000Z',\n",
       "  'time_period_end': '2021-07-21T00:00:00.0000000Z',\n",
       "  'time_open': '2021-07-20T00:00:00.1390840Z',\n",
       "  'time_close': '2021-07-20T23:59:59.9173440Z',\n",
       "  'price_open': 30842.04,\n",
       "  'price_high': 31068.62,\n",
       "  'price_low': 29278.0,\n",
       "  'price_close': 29796.16,\n",
       "  'volume_traded': 36164.347032647,\n",
       "  'trades_count': 461080},\n",
       " {'time_period_start': '2021-07-19T00:00:00.0000000Z',\n",
       "  'time_period_end': '2021-07-20T00:00:00.0000000Z',\n",
       "  'time_open': '2021-07-19T00:00:00.0926060Z',\n",
       "  'time_close': '2021-07-19T23:59:59.8595490Z',\n",
       "  'price_open': 31786.37,\n",
       "  'price_high': 31905.5,\n",
       "  'price_low': 30400.0,\n",
       "  'price_close': 30842.03,\n",
       "  'volume_traded': 24533.331409359,\n",
       "  'trades_count': 317578},\n",
       " {'time_period_start': '2021-07-18T00:00:00.0000000Z',\n",
       "  'time_period_end': '2021-07-19T00:00:00.0000000Z',\n",
       "  'time_open': '2021-07-18T00:00:00.0033500Z',\n",
       "  'time_close': '2021-07-18T23:59:58.8240740Z',\n",
       "  'price_open': 31533.9,\n",
       "  'price_high': 32450.0,\n",
       "  'price_low': 31100.0,\n",
       "  'price_close': 31788.25,\n",
       "  'volume_traded': 11494.620065781,\n",
       "  'trades_count': 207842},\n",
       " {'time_period_start': '2021-07-17T00:00:00.0000000Z',\n",
       "  'time_period_end': '2021-07-18T00:00:00.0000000Z',\n",
       "  'time_open': '2021-07-17T00:00:00.0903000Z',\n",
       "  'time_close': '2021-07-17T23:59:59.6631290Z',\n",
       "  'price_open': 31389.57,\n",
       "  'price_high': 31960.5,\n",
       "  'price_low': 31162.7,\n",
       "  'price_close': 31533.91,\n",
       "  'volume_traded': 13111.565109104,\n",
       "  'trades_count': 243573},\n",
       " {'time_period_start': '2021-07-16T00:00:00.0000000Z',\n",
       "  'time_period_end': '2021-07-17T00:00:00.0000000Z',\n",
       "  'time_open': '2021-07-16T00:00:00.1094600Z',\n",
       "  'time_close': '2021-07-16T23:59:59.4382800Z',\n",
       "  'price_open': 31872.49,\n",
       "  'price_high': 32264.53,\n",
       "  'price_low': 31012.93,\n",
       "  'price_close': 31388.06,\n",
       "  'volume_traded': 21372.12077759,\n",
       "  'trades_count': 292798},\n",
       " {'time_period_start': '2021-07-15T00:00:00.0000000Z',\n",
       "  'time_period_end': '2021-07-16T00:00:00.0000000Z',\n",
       "  'time_open': '2021-07-15T00:00:01.1605360Z',\n",
       "  'time_close': '2021-07-15T23:59:59.9707740Z',\n",
       "  'price_open': 32815.75,\n",
       "  'price_high': 33198.0,\n",
       "  'price_low': 31064.77,\n",
       "  'price_close': 31868.68,\n",
       "  'volume_traded': 25130.184408378,\n",
       "  'trades_count': 362497},\n",
       " {'time_period_start': '2021-07-14T00:00:00.0000000Z',\n",
       "  'time_period_end': '2021-07-15T00:00:00.0000000Z',\n",
       "  'time_open': '2021-07-14T00:00:00.0911230Z',\n",
       "  'time_close': '2021-07-14T23:59:58.6260000Z',\n",
       "  'price_open': 32734.14,\n",
       "  'price_high': 33125.55,\n",
       "  'price_low': 31555.6,\n",
       "  'price_close': 32821.17,\n",
       "  'volume_traded': 23243.54872575,\n",
       "  'trades_count': 288914},\n",
       " {'time_period_start': '2021-07-13T00:00:00.0000000Z',\n",
       "  'time_period_end': '2021-07-14T00:00:00.0000000Z',\n",
       "  'time_open': '2021-07-13T00:00:00.0915210Z',\n",
       "  'time_close': '2021-07-13T23:59:59.6374850Z',\n",
       "  'price_open': 33077.43,\n",
       "  'price_high': 33346.0,\n",
       "  'price_low': 32190.0,\n",
       "  'price_close': 32734.14,\n",
       "  'volume_traded': 20355.44481776,\n",
       "  'trades_count': 265101},\n",
       " {'time_period_start': '2021-07-12T00:00:00.0000000Z',\n",
       "  'time_period_end': '2021-07-13T00:00:00.0000000Z',\n",
       "  'time_open': '2021-07-12T00:00:00.0030000Z',\n",
       "  'time_close': '2021-07-12T23:59:59.9310000Z',\n",
       "  'price_open': 34246.9,\n",
       "  'price_high': 34720.0,\n",
       "  'price_low': 32658.751,\n",
       "  'price_close': 33105.0,\n",
       "  'volume_traded': 21259.620304469,\n",
       "  'trades_count': 263723},\n",
       " {'time_period_start': '2021-07-11T00:00:00.0000000Z',\n",
       "  'time_period_end': '2021-07-12T00:00:00.0000000Z',\n",
       "  'time_open': '2021-07-11T00:00:01.8169050Z',\n",
       "  'time_close': '2021-07-11T23:59:59.9940000Z',\n",
       "  'price_open': 33515.35,\n",
       "  'price_high': 34663.5,\n",
       "  'price_low': 33331.0,\n",
       "  'price_close': 34246.9,\n",
       "  'volume_traded': 13645.217466786,\n",
       "  'trades_count': 196113},\n",
       " {'time_period_start': '2021-07-10T00:00:00.0000000Z',\n",
       "  'time_period_end': '2021-07-11T00:00:00.0000000Z',\n",
       "  'time_open': '2021-07-10T00:00:00.6771490Z',\n",
       "  'time_close': '2021-07-10T23:59:59.7586070Z',\n",
       "  'price_open': 33824.25,\n",
       "  'price_high': 34285.0,\n",
       "  'price_low': 32968.2,\n",
       "  'price_close': 33515.35,\n",
       "  'volume_traded': 12531.090261224,\n",
       "  'trades_count': 208668},\n",
       " {'time_period_start': '2021-07-09T00:00:00.0000000Z',\n",
       "  'time_period_end': '2021-07-10T00:00:00.0000000Z',\n",
       "  'time_open': '2021-07-09T00:00:00.1344000Z',\n",
       "  'time_close': '2021-07-09T23:59:59.4143110Z',\n",
       "  'price_open': 32875.95,\n",
       "  'price_high': 34137.04,\n",
       "  'price_low': 32255.24,\n",
       "  'price_close': 33824.26,\n",
       "  'volume_traded': 17971.612571836,\n",
       "  'trades_count': 261763},\n",
       " {'time_period_start': '2021-07-08T00:00:00.0000000Z',\n",
       "  'time_period_end': '2021-07-09T00:00:00.0000000Z',\n",
       "  'time_open': '2021-07-08T00:00:00.0753730Z',\n",
       "  'time_close': '2021-07-08T23:59:59.7980000Z',\n",
       "  'price_open': 33879.5,\n",
       "  'price_high': 33953.5,\n",
       "  'price_low': 32100.5,\n",
       "  'price_close': 32882.2,\n",
       "  'volume_traded': 32642.323551559,\n",
       "  'trades_count': 354592},\n",
       " {'time_period_start': '2021-07-07T00:00:00.0000000Z',\n",
       "  'time_period_end': '2021-07-08T00:00:00.0000000Z',\n",
       "  'time_open': '2021-07-07T00:00:00.1503720Z',\n",
       "  'time_close': '2021-07-07T23:59:59.8690000Z',\n",
       "  'price_open': 34225.72,\n",
       "  'price_high': 35098.28,\n",
       "  'price_low': 33770.01,\n",
       "  'price_close': 33885.1,\n",
       "  'volume_traded': 19036.008164098,\n",
       "  'trades_count': 271884},\n",
       " {'time_period_start': '2021-07-06T00:00:00.0000000Z',\n",
       "  'time_period_end': '2021-07-07T00:00:00.0000000Z',\n",
       "  'time_open': '2021-07-06T00:00:00.1104560Z',\n",
       "  'time_close': '2021-07-06T23:59:59.4333610Z',\n",
       "  'price_open': 33697.78,\n",
       "  'price_high': 35133.231,\n",
       "  'price_low': 33300.0,\n",
       "  'price_close': 34225.73,\n",
       "  'volume_traded': 23170.608755828,\n",
       "  'trades_count': 292203},\n",
       " {'time_period_start': '2021-07-05T00:00:00.0000000Z',\n",
       "  'time_period_end': '2021-07-06T00:00:00.0000000Z',\n",
       "  'time_open': '2021-07-05T00:00:00.0872500Z',\n",
       "  'time_close': '2021-07-05T23:59:59.9838420Z',\n",
       "  'price_open': 35284.06,\n",
       "  'price_high': 35305.1,\n",
       "  'price_low': 33080.3,\n",
       "  'price_close': 33697.78,\n",
       "  'volume_traded': 22442.721990955,\n",
       "  'trades_count': 270106},\n",
       " {'time_period_start': '2021-07-04T00:00:00.0000000Z',\n",
       "  'time_period_end': '2021-07-05T00:00:00.0000000Z',\n",
       "  'time_open': '2021-07-04T00:00:00.4383750Z',\n",
       "  'time_close': '2021-07-04T23:59:59.9127460Z',\n",
       "  'price_open': 34685.03,\n",
       "  'price_high': 35985.71,\n",
       "  'price_low': 34381.1,\n",
       "  'price_close': 35284.05,\n",
       "  'volume_traded': 12160.928457585,\n",
       "  'trades_count': 202777},\n",
       " {'time_period_start': '2021-07-03T00:00:00.0000000Z',\n",
       "  'time_period_end': '2021-07-04T00:00:00.0000000Z',\n",
       "  'time_open': '2021-07-03T00:00:00.1054520Z',\n",
       "  'time_close': '2021-07-03T23:59:59.5080000Z',\n",
       "  'price_open': 33805.01,\n",
       "  'price_high': 34959.72,\n",
       "  'price_low': 33310.0,\n",
       "  'price_close': 34688.3,\n",
       "  'volume_traded': 12945.90684256,\n",
       "  'trades_count': 212531},\n",
       " {'time_period_start': '2021-07-02T00:00:00.0000000Z',\n",
       "  'time_period_end': '2021-07-03T00:00:00.0000000Z',\n",
       "  'time_open': '2021-07-02T00:00:00.1078580Z',\n",
       "  'time_close': '2021-07-02T23:59:59.4688940Z',\n",
       "  'price_open': 33510.93,\n",
       "  'price_high': 34000.0,\n",
       "  'price_low': 32698.5,\n",
       "  'price_close': 33805.02,\n",
       "  'volume_traded': 25750.03958332,\n",
       "  'trades_count': 341785},\n",
       " {'time_period_start': '2021-07-01T00:00:00.0000000Z',\n",
       "  'time_period_end': '2021-07-02T00:00:00.0000000Z',\n",
       "  'time_open': '2021-07-01T00:00:00.1036150Z',\n",
       "  'time_close': '2021-07-01T23:59:59.6179430Z',\n",
       "  'price_open': 35060.0,\n",
       "  'price_high': 35137.79,\n",
       "  'price_low': 32700.88,\n",
       "  'price_close': 33516.11,\n",
       "  'volume_traded': 32245.723353888,\n",
       "  'trades_count': 399910},\n",
       " {'time_period_start': '2021-06-30T00:00:00.0000000Z',\n",
       "  'time_period_end': '2021-07-01T00:00:00.0000000Z',\n",
       "  'time_open': '2021-06-30T00:00:00.0044920Z',\n",
       "  'time_close': '2021-06-30T23:59:59.5722050Z',\n",
       "  'price_open': 35906.17,\n",
       "  'price_high': 36101.5,\n",
       "  'price_low': 34033.0,\n",
       "  'price_close': 35060.0,\n",
       "  'volume_traded': 34473.453644494,\n",
       "  'trades_count': 365324},\n",
       " {'time_period_start': '2021-06-29T00:00:00.0000000Z',\n",
       "  'time_period_end': '2021-06-30T00:00:00.0000000Z',\n",
       "  'time_open': '2021-06-29T00:00:00.1142520Z',\n",
       "  'time_close': '2021-06-29T23:59:58.9549790Z',\n",
       "  'price_open': 34493.22,\n",
       "  'price_high': 36675.0,\n",
       "  'price_low': 34233.35,\n",
       "  'price_close': 35904.28,\n",
       "  'volume_traded': 37113.745085557,\n",
       "  'trades_count': 382522},\n",
       " {'time_period_start': '2021-06-28T00:00:00.0000000Z',\n",
       "  'time_period_end': '2021-06-29T00:00:00.0000000Z',\n",
       "  'time_open': '2021-06-28T00:00:00.1937790Z',\n",
       "  'time_close': '2021-06-28T23:59:59.1836000Z',\n",
       "  'price_open': 34708.53,\n",
       "  'price_high': 35357.13,\n",
       "  'price_low': 33864.99,\n",
       "  'price_close': 34493.22,\n",
       "  'volume_traded': 34338.528062188,\n",
       "  'trades_count': 348235},\n",
       " {'time_period_start': '2021-06-27T00:00:00.0000000Z',\n",
       "  'time_period_end': '2021-06-28T00:00:00.0000000Z',\n",
       "  'time_open': '2021-06-27T00:00:00.1720000Z',\n",
       "  'time_close': '2021-06-27T23:59:59.6430000Z',\n",
       "  'price_open': 32275.9,\n",
       "  'price_high': 34772.94,\n",
       "  'price_low': 31983.883,\n",
       "  'price_close': 34675.3,\n",
       "  'volume_traded': 30354.341721318,\n",
       "  'trades_count': 345334},\n",
       " {'time_period_start': '2021-06-26T00:00:00.0000000Z',\n",
       "  'time_period_end': '2021-06-27T00:00:00.0000000Z',\n",
       "  'time_open': '2021-06-26T00:00:00.0120000Z',\n",
       "  'time_close': '2021-06-26T23:59:59.5162960Z',\n",
       "  'price_open': 31577.3,\n",
       "  'price_high': 32741.5,\n",
       "  'price_low': 30082.79,\n",
       "  'price_close': 32275.19,\n",
       "  'volume_traded': 36093.529470027,\n",
       "  'trades_count': 425204},\n",
       " {'time_period_start': '2021-06-25T00:00:00.0000000Z',\n",
       "  'time_period_end': '2021-06-26T00:00:00.0000000Z',\n",
       "  'time_open': '2021-06-25T00:00:00.0853820Z',\n",
       "  'time_close': '2021-06-25T23:59:59.8621180Z',\n",
       "  'price_open': 34654.87,\n",
       "  'price_high': 35517.22,\n",
       "  'price_low': 31271.02,\n",
       "  'price_close': 31594.63,\n",
       "  'volume_traded': 52090.820355977,\n",
       "  'trades_count': 510100},\n",
       " {'time_period_start': '2021-06-24T00:00:00.0000000Z',\n",
       "  'time_period_end': '2021-06-25T00:00:00.0000000Z',\n",
       "  'time_open': '2021-06-24T00:00:00.0909460Z',\n",
       "  'time_close': '2021-06-24T23:59:59.4936190Z',\n",
       "  'price_open': 33688.51,\n",
       "  'price_high': 35311.2,\n",
       "  'price_low': 32300.0,\n",
       "  'price_close': 34654.58,\n",
       "  'volume_traded': 34537.056025174,\n",
       "  'trades_count': 350152},\n",
       " {'time_period_start': '2021-06-23T00:00:00.0000000Z',\n",
       "  'time_period_end': '2021-06-24T00:00:00.0000000Z',\n",
       "  'time_open': '2021-06-23T00:00:00.0942790Z',\n",
       "  'time_close': '2021-06-23T23:59:59.6572850Z',\n",
       "  'price_open': 32538.9,\n",
       "  'price_high': 35000.0,\n",
       "  'price_low': 31670.89,\n",
       "  'price_close': 33688.35,\n",
       "  'volume_traded': 48981.91898374,\n",
       "  'trades_count': 484550},\n",
       " {'time_period_start': '2021-06-22T00:00:00.0000000Z',\n",
       "  'time_period_end': '2021-06-23T00:00:00.0000000Z',\n",
       "  'time_open': '2021-06-22T00:00:00.1131260Z',\n",
       "  'time_close': '2021-06-22T23:59:59.8130850Z',\n",
       "  'price_open': 31609.82,\n",
       "  'price_high': 33352.0,\n",
       "  'price_low': 28600.0,\n",
       "  'price_close': 32538.37,\n",
       "  'volume_traded': 101784.334694276,\n",
       "  'trades_count': 916437},\n",
       " {'time_period_start': '2021-06-21T00:00:00.0000000Z',\n",
       "  'time_period_end': '2021-06-22T00:00:00.0000000Z',\n",
       "  'time_open': '2021-06-21T00:00:00.0866960Z',\n",
       "  'time_close': '2021-06-21T23:59:59.9820850Z',\n",
       "  'price_open': 35585.79,\n",
       "  'price_high': 35763.8,\n",
       "  'price_low': 31238.69,\n",
       "  'price_close': 31609.82,\n",
       "  'volume_traded': 83089.190833614,\n",
       "  'trades_count': 818973},\n",
       " {'time_period_start': '2021-06-20T00:00:00.0000000Z',\n",
       "  'time_period_end': '2021-06-21T00:00:00.0000000Z',\n",
       "  'time_open': '2021-06-20T00:00:00.4777390Z',\n",
       "  'time_close': '2021-06-20T23:59:59.9870120Z',\n",
       "  'price_open': 35484.8,\n",
       "  'price_high': 36139.73,\n",
       "  'price_low': 33333.01,\n",
       "  'price_close': 35585.78,\n",
       "  'volume_traded': 38146.876540678,\n",
       "  'trades_count': 461703},\n",
       " {'time_period_start': '2021-06-19T00:00:00.0000000Z',\n",
       "  'time_period_end': '2021-06-20T00:00:00.0000000Z',\n",
       "  'time_open': '2021-06-19T00:00:00.0883630Z',\n",
       "  'time_close': '2021-06-19T23:59:59.3430420Z',\n",
       "  'price_open': 35840.96,\n",
       "  'price_high': 36464.63,\n",
       "  'price_low': 34718.21,\n",
       "  'price_close': 35484.79,\n",
       "  'volume_traded': 30914.977994348,\n",
       "  'trades_count': 386176},\n",
       " {'time_period_start': '2021-06-18T00:00:00.0000000Z',\n",
       "  'time_period_end': '2021-06-19T00:00:00.0000000Z',\n",
       "  'time_open': '2021-06-18T00:00:00.0944320Z',\n",
       "  'time_close': '2021-06-18T23:59:59.8651610Z',\n",
       "  'price_open': 38103.94,\n",
       "  'price_high': 38216.22,\n",
       "  'price_low': 35126.0,\n",
       "  'price_close': 35841.81,\n",
       "  'volume_traded': 43842.716627875,\n",
       "  'trades_count': 476065},\n",
       " {'time_period_start': '2021-06-17T00:00:00.0000000Z',\n",
       "  'time_period_end': '2021-06-18T00:00:00.0000000Z',\n",
       "  'time_open': '2021-06-17T00:00:00.0960920Z',\n",
       "  'time_close': '2021-06-17T23:59:59.8909320Z',\n",
       "  'price_open': 38351.0,\n",
       "  'price_high': 39600.5,\n",
       "  'price_low': 37350.0,\n",
       "  'price_close': 38095.17,\n",
       "  'volume_traded': 36941.830570819,\n",
       "  'trades_count': 442840},\n",
       " {'time_period_start': '2021-06-16T00:00:00.0000000Z',\n",
       "  'time_period_end': '2021-06-17T00:00:00.0000000Z',\n",
       "  'time_open': '2021-06-16T00:00:00.9529820Z',\n",
       "  'time_close': '2021-06-16T23:59:59.4147890Z',\n",
       "  'price_open': 40158.06,\n",
       "  'price_high': 40510.5,\n",
       "  'price_low': 38059.01,\n",
       "  'price_close': 38351.0,\n",
       "  'volume_traded': 39582.628798451,\n",
       "  'trades_count': 446950},\n",
       " {'time_period_start': '2021-06-15T00:00:00.0000000Z',\n",
       "  'time_period_end': '2021-06-16T00:00:00.0000000Z',\n",
       "  'time_open': '2021-06-15T00:00:00.2685920Z',\n",
       "  'time_close': '2021-06-15T23:59:59.9259580Z',\n",
       "  'price_open': 40537.93,\n",
       "  'price_high': 41380.02,\n",
       "  'price_low': 39461.1,\n",
       "  'price_close': 40162.37,\n",
       "  'volume_traded': 34809.67818583,\n",
       "  'trades_count': 454709},\n",
       " {'time_period_start': '2021-06-14T00:00:00.0000000Z',\n",
       "  'time_period_end': '2021-06-15T00:00:00.0000000Z',\n",
       "  'time_open': '2021-06-14T00:00:00.1040450Z',\n",
       "  'time_close': '2021-06-14T23:59:59.6956640Z',\n",
       "  'price_open': 39015.24,\n",
       "  'price_high': 41076.03,\n",
       "  'price_low': 38734.1,\n",
       "  'price_close': 40539.47,\n",
       "  'volume_traded': 55612.724330957,\n",
       "  'trades_count': 508947},\n",
       " {'time_period_start': '2021-06-13T00:00:00.0000000Z',\n",
       "  'time_period_end': '2021-06-14T00:00:00.0000000Z',\n",
       "  'time_open': '2021-06-13T00:00:00.1259360Z',\n",
       "  'time_close': '2021-06-13T23:59:59.9570000Z',\n",
       "  'price_open': 35557.32,\n",
       "  'price_high': 39409.4,\n",
       "  'price_low': 34780.57,\n",
       "  'price_close': 39034.6,\n",
       "  'volume_traded': 34944.206643559,\n",
       "  'trades_count': 371944},\n",
       " {'time_period_start': '2021-06-12T00:00:00.0000000Z',\n",
       "  'time_period_end': '2021-06-13T00:00:00.0000000Z',\n",
       "  'time_open': '2021-06-12T00:00:00.1363370Z',\n",
       "  'time_close': '2021-06-12T23:59:59.9051720Z',\n",
       "  'price_open': 37340.08,\n",
       "  'price_high': 37461.47,\n",
       "  'price_low': 34630.0,\n",
       "  'price_close': 35557.33,\n",
       "  'volume_traded': 29622.640126068,\n",
       "  'trades_count': 346509},\n",
       " {'time_period_start': '2021-06-11T00:00:00.0000000Z',\n",
       "  'time_period_end': '2021-06-12T00:00:00.0000000Z',\n",
       "  'time_open': '2021-06-11T00:00:00.8711480Z',\n",
       "  'time_close': '2021-06-11T23:59:59.9878380Z',\n",
       "  'price_open': 36694.91,\n",
       "  'price_high': 37711.865,\n",
       "  'price_low': 35944.0,\n",
       "  'price_close': 37338.44,\n",
       "  'volume_traded': 33922.212966917,\n",
       "  'trades_count': 399126},\n",
       " {'time_period_start': '2021-06-10T00:00:00.0000000Z',\n",
       "  'time_period_end': '2021-06-11T00:00:00.0000000Z',\n",
       "  'time_open': '2021-06-10T00:00:00.3968770Z',\n",
       "  'time_close': '2021-06-10T23:59:59.6965700Z',\n",
       "  'price_open': 37404.75,\n",
       "  'price_high': 38482.0,\n",
       "  'price_low': 35800.0,\n",
       "  'price_close': 36694.05,\n",
       "  'volume_traded': 50163.64375276,\n",
       "  'trades_count': 496601},\n",
       " {'time_period_start': '2021-06-09T00:00:00.0000000Z',\n",
       "  'time_period_end': '2021-06-10T00:00:00.0000000Z',\n",
       "  'time_open': '2021-06-09T00:00:00.1587370Z',\n",
       "  'time_close': '2021-06-09T23:59:59.8500000Z',\n",
       "  'price_open': 33402.13,\n",
       "  'price_high': 37573.99,\n",
       "  'price_low': 32408.53,\n",
       "  'price_close': 37414.0,\n",
       "  'volume_traded': 59863.380565706,\n",
       "  'trades_count': 579223},\n",
       " {'time_period_start': '2021-06-08T00:00:00.0000000Z',\n",
       "  'time_period_end': '2021-06-09T00:00:00.0000000Z',\n",
       "  'time_open': '2021-06-08T00:00:00.2954920Z',\n",
       "  'time_close': '2021-06-08T23:59:59.4691970Z',\n",
       "  'price_open': 33567.26,\n",
       "  'price_high': 34085.61,\n",
       "  'price_low': 30994.25,\n",
       "  'price_close': 33402.13,\n",
       "  'volume_traded': 71699.968512525,\n",
       "  'trades_count': 739529},\n",
       " {'time_period_start': '2021-06-07T00:00:00.0000000Z',\n",
       "  'time_period_end': '2021-06-08T00:00:00.0000000Z',\n",
       "  'time_open': '2021-06-07T00:00:00.0891770Z',\n",
       "  'time_close': '2021-06-07T23:59:59.9336160Z',\n",
       "  'price_open': 35800.48,\n",
       "  'price_high': 36812.5,\n",
       "  'price_low': 33316.0,\n",
       "  'price_close': 33575.91,\n",
       "  'volume_traded': 38994.117158667,\n",
       "  'trades_count': 462186},\n",
       " {'time_period_start': '2021-06-06T00:00:00.0000000Z',\n",
       "  'time_period_end': '2021-06-07T00:00:00.0000000Z',\n",
       "  'time_open': '2021-06-06T00:00:00.1098080Z',\n",
       "  'time_close': '2021-06-06T23:59:59.5467840Z',\n",
       "  'price_open': 35539.97,\n",
       "  'price_high': 36510.58,\n",
       "  'price_low': 35230.5,\n",
       "  'price_close': 35800.48,\n",
       "  'volume_traded': 17400.461779555,\n",
       "  'trades_count': 281791},\n",
       " {'time_period_start': '2021-06-05T00:00:00.0000000Z',\n",
       "  'time_period_end': '2021-06-06T00:00:00.0000000Z',\n",
       "  'time_open': '2021-06-05T00:00:00.0931030Z',\n",
       "  'time_close': '2021-06-05T23:59:59.8170000Z',\n",
       "  'price_open': 36856.53,\n",
       "  'price_high': 37935.8,\n",
       "  'price_low': 34820.0,\n",
       "  'price_close': 35534.6,\n",
       "  'volume_traded': 29388.042854063,\n",
       "  'trades_count': 409224},\n",
       " {'time_period_start': '2021-06-04T00:00:00.0000000Z',\n",
       "  'time_period_end': '2021-06-05T00:00:00.0000000Z',\n",
       "  'time_open': '2021-06-04T00:00:00.0924340Z',\n",
       "  'time_close': '2021-06-04T23:59:59.7748120Z',\n",
       "  'price_open': 39248.54,\n",
       "  'price_high': 39291.24,\n",
       "  'price_low': 35576.67,\n",
       "  'price_close': 36856.52,\n",
       "  'volume_traded': 37762.641416675,\n",
       "  'trades_count': 514910},\n",
       " {'time_period_start': '2021-06-03T00:00:00.0000000Z',\n",
       "  'time_period_end': '2021-06-04T00:00:00.0000000Z',\n",
       "  'time_open': '2021-06-03T00:00:00.1945130Z',\n",
       "  'time_close': '2021-06-03T23:59:59.5593840Z',\n",
       "  'price_open': 37581.83,\n",
       "  'price_high': 39490.0,\n",
       "  'price_low': 37154.13,\n",
       "  'price_close': 39248.55,\n",
       "  'volume_traded': 30951.430110112,\n",
       "  'trades_count': 410306},\n",
       " {'time_period_start': '2021-06-02T00:00:00.0000000Z',\n",
       "  'time_period_end': '2021-06-03T00:00:00.0000000Z',\n",
       "  'time_open': '2021-06-02T00:00:00.8850140Z',\n",
       "  'time_close': '2021-06-02T23:59:59.9761740Z',\n",
       "  'price_open': 36684.99,\n",
       "  'price_high': 38256.4,\n",
       "  'price_low': 35920.0,\n",
       "  'price_close': 37577.91,\n",
       "  'volume_traded': 32471.491079511,\n",
       "  'trades_count': 445555},\n",
       " {'time_period_start': '2021-06-01T00:00:00.0000000Z',\n",
       "  'time_period_end': '2021-06-02T00:00:00.0000000Z',\n",
       "  'time_open': '2021-06-01T00:00:00.0072210Z',\n",
       "  'time_close': '2021-06-01T23:59:58.0168690Z',\n",
       "  'price_open': 37276.23,\n",
       "  'price_high': 37934.3,\n",
       "  'price_low': 35660.031,\n",
       "  'price_close': 36685.0,\n",
       "  'volume_traded': 34085.665008723,\n",
       "  'trades_count': 492610},\n",
       " {'time_period_start': '2021-05-31T00:00:00.0000000Z',\n",
       "  'time_period_end': '2021-06-01T00:00:00.0000000Z',\n",
       "  'time_open': '2021-05-31T00:00:00.0887240Z',\n",
       "  'time_close': '2021-05-31T23:59:59.5611430Z',\n",
       "  'price_open': 35669.44,\n",
       "  'price_high': 37540.96,\n",
       "  'price_low': 34183.0,\n",
       "  'price_close': 37279.31,\n",
       "  'volume_traded': 36119.180917877,\n",
       "  'trades_count': 404241}]"
      ]
     },
     "execution_count": 11,
     "metadata": {},
     "output_type": "execute_result"
    }
   ],
   "source": [
    "data = json.loads(response.text)\n",
    "data"
   ]
  },
  {
   "cell_type": "code",
   "execution_count": 12,
   "metadata": {},
   "outputs": [
    {
     "data": {
      "text/html": [
       "<div>\n",
       "<style scoped>\n",
       "    .dataframe tbody tr th:only-of-type {\n",
       "        vertical-align: middle;\n",
       "    }\n",
       "\n",
       "    .dataframe tbody tr th {\n",
       "        vertical-align: top;\n",
       "    }\n",
       "\n",
       "    .dataframe thead th {\n",
       "        text-align: right;\n",
       "    }\n",
       "</style>\n",
       "<table border=\"1\" class=\"dataframe\">\n",
       "  <thead>\n",
       "    <tr style=\"text-align: right;\">\n",
       "      <th></th>\n",
       "      <th>time_period_start</th>\n",
       "      <th>time_period_end</th>\n",
       "      <th>time_open</th>\n",
       "      <th>time_close</th>\n",
       "      <th>price_open</th>\n",
       "      <th>price_high</th>\n",
       "      <th>price_low</th>\n",
       "      <th>price_close</th>\n",
       "      <th>volume_traded</th>\n",
       "      <th>trades_count</th>\n",
       "    </tr>\n",
       "  </thead>\n",
       "  <tbody>\n",
       "    <tr>\n",
       "      <th>0</th>\n",
       "      <td>2021-09-07T00:00:00.0000000Z</td>\n",
       "      <td>2021-09-08T00:00:00.0000000Z</td>\n",
       "      <td>2021-09-07T00:00:00.0971670Z</td>\n",
       "      <td>2021-09-07T11:47:28.2709430Z</td>\n",
       "      <td>52698.80</td>\n",
       "      <td>52959.00</td>\n",
       "      <td>50492.638</td>\n",
       "      <td>50983.10</td>\n",
       "      <td>14479.035393</td>\n",
       "      <td>240889</td>\n",
       "    </tr>\n",
       "    <tr>\n",
       "      <th>1</th>\n",
       "      <td>2021-09-06T00:00:00.0000000Z</td>\n",
       "      <td>2021-09-07T00:00:00.0000000Z</td>\n",
       "      <td>2021-09-06T00:00:00.1340000Z</td>\n",
       "      <td>2021-09-06T23:59:59.5066940Z</td>\n",
       "      <td>51768.00</td>\n",
       "      <td>52813.50</td>\n",
       "      <td>51003.370</td>\n",
       "      <td>52698.81</td>\n",
       "      <td>19762.067127</td>\n",
       "      <td>387336</td>\n",
       "    </tr>\n",
       "    <tr>\n",
       "      <th>2</th>\n",
       "      <td>2021-09-05T00:00:00.0000000Z</td>\n",
       "      <td>2021-09-06T00:00:00.0000000Z</td>\n",
       "      <td>2021-09-05T00:00:00.0281670Z</td>\n",
       "      <td>2021-09-05T23:59:59.9718840Z</td>\n",
       "      <td>49944.89</td>\n",
       "      <td>51921.00</td>\n",
       "      <td>49483.721</td>\n",
       "      <td>51789.17</td>\n",
       "      <td>14932.678938</td>\n",
       "      <td>314362</td>\n",
       "    </tr>\n",
       "    <tr>\n",
       "      <th>3</th>\n",
       "      <td>2021-09-04T00:00:00.0000000Z</td>\n",
       "      <td>2021-09-05T00:00:00.0000000Z</td>\n",
       "      <td>2021-09-04T00:00:00.1316060Z</td>\n",
       "      <td>2021-09-04T23:59:59.8250550Z</td>\n",
       "      <td>50025.00</td>\n",
       "      <td>50570.94</td>\n",
       "      <td>49363.600</td>\n",
       "      <td>49942.98</td>\n",
       "      <td>14088.296015</td>\n",
       "      <td>325260</td>\n",
       "    </tr>\n",
       "    <tr>\n",
       "      <th>4</th>\n",
       "      <td>2021-09-03T00:00:00.0000000Z</td>\n",
       "      <td>2021-09-04T00:00:00.0000000Z</td>\n",
       "      <td>2021-09-03T00:00:00.1074330Z</td>\n",
       "      <td>2021-09-03T23:59:59.9330000Z</td>\n",
       "      <td>49279.38</td>\n",
       "      <td>51094.00</td>\n",
       "      <td>48333.000</td>\n",
       "      <td>50018.60</td>\n",
       "      <td>28801.390895</td>\n",
       "      <td>463464</td>\n",
       "    </tr>\n",
       "  </tbody>\n",
       "</table>\n",
       "</div>"
      ],
      "text/plain": [
       "              time_period_start               time_period_end  \\\n",
       "0  2021-09-07T00:00:00.0000000Z  2021-09-08T00:00:00.0000000Z   \n",
       "1  2021-09-06T00:00:00.0000000Z  2021-09-07T00:00:00.0000000Z   \n",
       "2  2021-09-05T00:00:00.0000000Z  2021-09-06T00:00:00.0000000Z   \n",
       "3  2021-09-04T00:00:00.0000000Z  2021-09-05T00:00:00.0000000Z   \n",
       "4  2021-09-03T00:00:00.0000000Z  2021-09-04T00:00:00.0000000Z   \n",
       "\n",
       "                      time_open                    time_close  price_open  \\\n",
       "0  2021-09-07T00:00:00.0971670Z  2021-09-07T11:47:28.2709430Z    52698.80   \n",
       "1  2021-09-06T00:00:00.1340000Z  2021-09-06T23:59:59.5066940Z    51768.00   \n",
       "2  2021-09-05T00:00:00.0281670Z  2021-09-05T23:59:59.9718840Z    49944.89   \n",
       "3  2021-09-04T00:00:00.1316060Z  2021-09-04T23:59:59.8250550Z    50025.00   \n",
       "4  2021-09-03T00:00:00.1074330Z  2021-09-03T23:59:59.9330000Z    49279.38   \n",
       "\n",
       "   price_high  price_low  price_close  volume_traded  trades_count  \n",
       "0    52959.00  50492.638     50983.10   14479.035393        240889  \n",
       "1    52813.50  51003.370     52698.81   19762.067127        387336  \n",
       "2    51921.00  49483.721     51789.17   14932.678938        314362  \n",
       "3    50570.94  49363.600     49942.98   14088.296015        325260  \n",
       "4    51094.00  48333.000     50018.60   28801.390895        463464  "
      ]
     },
     "execution_count": 12,
     "metadata": {},
     "output_type": "execute_result"
    }
   ],
   "source": [
    "df = pd.DataFrame(data)\n",
    "df.head()"
   ]
  },
  {
   "cell_type": "markdown",
   "metadata": {},
   "source": [
    "# Price open"
   ]
  },
  {
   "cell_type": "code",
   "execution_count": 13,
   "metadata": {},
   "outputs": [
    {
     "data": {
      "text/plain": [
       "52698.8"
      ]
     },
     "execution_count": 13,
     "metadata": {},
     "output_type": "execute_result"
    }
   ],
   "source": [
    "df['price_open'][0]"
   ]
  },
  {
   "cell_type": "markdown",
   "metadata": {},
   "source": [
    "# Price close "
   ]
  },
  {
   "cell_type": "code",
   "execution_count": 14,
   "metadata": {},
   "outputs": [
    {
     "data": {
      "text/plain": [
       "50983.1"
      ]
     },
     "execution_count": 14,
     "metadata": {},
     "output_type": "execute_result"
    }
   ],
   "source": [
    "df['price_close'][0]"
   ]
  },
  {
   "cell_type": "markdown",
   "metadata": {},
   "source": [
    "# Price_High"
   ]
  },
  {
   "cell_type": "code",
   "execution_count": 12,
   "metadata": {},
   "outputs": [
    {
     "data": {
      "text/plain": [
       "36812.5"
      ]
     },
     "execution_count": 12,
     "metadata": {},
     "output_type": "execute_result"
    }
   ],
   "source": [
    "df['price_high'][0]"
   ]
  },
  {
   "cell_type": "markdown",
   "metadata": {},
   "source": [
    "# volume_traded"
   ]
  },
  {
   "cell_type": "code",
   "execution_count": 13,
   "metadata": {},
   "outputs": [
    {
     "data": {
      "text/plain": [
       "132044.007262027"
      ]
     },
     "execution_count": 13,
     "metadata": {},
     "output_type": "execute_result"
    }
   ],
   "source": [
    "df['volume_traded'][0]"
   ]
  },
  {
   "cell_type": "code",
   "execution_count": null,
   "metadata": {},
   "outputs": [],
   "source": []
  },
  {
   "cell_type": "markdown",
   "metadata": {},
   "source": [
    "# Candlestick Charts in Python"
   ]
  },
  {
   "cell_type": "code",
   "execution_count": 15,
   "metadata": {},
   "outputs": [
    {
     "data": {
      "application/vnd.plotly.v1+json": {
       "config": {
        "plotlyServerURL": "https://plot.ly"
       },
       "data": [
        {
         "close": [
          50983.1,
          52698.81,
          51789.17,
          49942.98,
          50018.6,
          49279.37,
          48839.86,
          47112.5,
          46993.71,
          48802.58,
          48942.94,
          49077.57,
          46848.9,
          48987.33,
          47682.45,
          49506.5,
          49284.63,
          48867.02,
          49342.4,
          46765.87,
          44707.98,
          44671.58,
          45902.46,
          47014.49,
          47109.65,
          47833.64,
          44422.14,
          45539.85,
          45596.74,
          46279.23,
          43845.6,
          44637.34,
          42869.58,
          40888.74,
          39722.41,
          38191.44,
          39152.3,
          39865.41,
          41488.5,
          42237.95,
          40000,
          40035.1,
          39470.48,
          37262.77,
          35428.26,
          34301.78,
          33647.26,
          32287.74,
          32147.5,
          29796.16,
          30842.03,
          31788.25,
          31533.91,
          31388.06,
          31868.68,
          32821.17,
          32734.14,
          33105,
          34246.9,
          33515.35,
          33824.26,
          32882.2,
          33885.1,
          34225.73,
          33697.78,
          35284.05,
          34688.3,
          33805.02,
          33516.11,
          35060,
          35904.28,
          34493.22,
          34675.3,
          32275.19,
          31594.63,
          34654.58,
          33688.35,
          32538.37,
          31609.82,
          35585.78,
          35484.79,
          35841.81,
          38095.17,
          38351,
          40162.37,
          40539.47,
          39034.6,
          35557.33,
          37338.44,
          36694.05,
          37414,
          33402.13,
          33575.91,
          35800.48,
          35534.6,
          36856.52,
          39248.55,
          37577.91,
          36685,
          37279.31
         ],
         "high": [
          52959,
          52813.5,
          51921,
          50570.94,
          51094,
          50408.447,
          49141.907,
          48274.5,
          48916.5,
          49685,
          49325,
          49197.64,
          49387.6,
          49277,
          49893.5,
          50562.11,
          49567.1,
          49835,
          49436.1,
          47114.99,
          46041.62,
          47185.5,
          48076.52,
          47440.5,
          48240.5,
          47953.9,
          46236.7,
          46788,
          46759,
          46529.02,
          45386.81,
          44763.14,
          43401.9,
          41447.89,
          39973.94,
          39792.83,
          40464.5,
          42642.5,
          42460,
          42335.5,
          40665,
          40944.5,
          39579,
          40593.93,
          35451.04,
          34534.32,
          33684.17,
          32611.84,
          32950,
          31068.62,
          31905.5,
          32450,
          31960.5,
          32264.53,
          33198,
          33125.55,
          33346,
          34720,
          34663.5,
          34285,
          34137.04,
          33953.5,
          35098.28,
          35133.231,
          35305.1,
          35985.71,
          34959.72,
          34000,
          35137.79,
          36101.5,
          36675,
          35357.13,
          34772.94,
          32741.5,
          35517.22,
          35311.2,
          35000,
          33352,
          35763.8,
          36139.73,
          36464.63,
          38216.22,
          39600.5,
          40510.5,
          41380.02,
          41076.03,
          39409.4,
          37461.47,
          37711.865,
          38482,
          37573.99,
          34085.61,
          36812.5,
          36510.58,
          37935.8,
          39291.24,
          39490,
          38256.4,
          37934.3,
          37540.96
         ],
         "low": [
          50492.638,
          51003.37,
          49483.721,
          49363.6,
          48333,
          48615,
          46515.5,
          46698.5,
          46828,
          47768.5,
          48244.88,
          46361.01,
          46284.8,
          47100,
          47593.66,
          49010,
          48058.1,
          48237.5,
          46642,
          43935.54,
          44216.47,
          44401.2,
          45654.14,
          45497.5,
          46000,
          44242,
          43714.36,
          45350.74,
          44642.21,
          42784,
          43131.97,
          42251,
          39834,
          37276.805,
          37425,
          37558.09,
          38660.01,
          39392,
          41007.51,
          38304,
          39229.47,
          38786.125,
          36386.19,
          35251.54,
          33869.9,
          33419.31,
          31993.5,
          31703.15,
          29499,
          29278,
          30400,
          31100,
          31162.7,
          31012.93,
          31064.77,
          31555.6,
          32190,
          32658.751,
          33331,
          32968.2,
          32255.24,
          32100.5,
          33770.01,
          33300,
          33080.3,
          34381.1,
          33310,
          32698.5,
          32700.88,
          34033,
          34233.35,
          33864.99,
          31983.883,
          30082.79,
          31271.02,
          32300,
          31670.89,
          28600,
          31238.69,
          33333.01,
          34718.21,
          35126,
          37350,
          38059.01,
          39461.1,
          38734.1,
          34780.57,
          34630,
          35944,
          35800,
          32408.53,
          30994.25,
          33316,
          35230.5,
          34820,
          35576.67,
          37154.13,
          35920,
          35660.031,
          34183
         ],
         "open": [
          52698.8,
          51768,
          49944.89,
          50025,
          49279.38,
          48834.27,
          47110.33,
          46996.8,
          48802.58,
          48942.89,
          49081.08,
          46851.47,
          48991.57,
          47682.45,
          49504.53,
          49284.38,
          48870.21,
          49349.99,
          46769.02,
          44709.1,
          44675.34,
          45903.22,
          47014.38,
          47109.64,
          47833.64,
          44422.15,
          45570,
          45601.82,
          46280,
          43829.15,
          44628.11,
          42869.59,
          40888.73,
          39718.9,
          38189.4,
          39149.59,
          39859.18,
          41499,
          42233.66,
          40039.44,
          40035.1,
          39475.99,
          37262.76,
          35428.25,
          34291.67,
          33647.27,
          32287.75,
          32152.68,
          29796.15,
          30842.04,
          31786.37,
          31533.9,
          31389.57,
          31872.49,
          32815.75,
          32734.14,
          33077.43,
          34246.9,
          33515.35,
          33824.25,
          32875.95,
          33879.5,
          34225.72,
          33697.78,
          35284.06,
          34685.03,
          33805.01,
          33510.93,
          35060,
          35906.17,
          34493.22,
          34708.53,
          32275.9,
          31577.3,
          34654.87,
          33688.51,
          32538.9,
          31609.82,
          35585.79,
          35484.8,
          35840.96,
          38103.94,
          38351,
          40158.06,
          40537.93,
          39015.24,
          35557.32,
          37340.08,
          36694.91,
          37404.75,
          33402.13,
          33567.26,
          35800.48,
          35539.97,
          36856.53,
          39248.54,
          37581.83,
          36684.99,
          37276.23,
          35669.44
         ],
         "type": "candlestick",
         "x": [
          "2021-09-07T00:00:00.0000000Z",
          "2021-09-06T00:00:00.0000000Z",
          "2021-09-05T00:00:00.0000000Z",
          "2021-09-04T00:00:00.0000000Z",
          "2021-09-03T00:00:00.0000000Z",
          "2021-09-02T00:00:00.0000000Z",
          "2021-09-01T00:00:00.0000000Z",
          "2021-08-31T00:00:00.0000000Z",
          "2021-08-30T00:00:00.0000000Z",
          "2021-08-29T00:00:00.0000000Z",
          "2021-08-28T00:00:00.0000000Z",
          "2021-08-27T00:00:00.0000000Z",
          "2021-08-26T00:00:00.0000000Z",
          "2021-08-25T00:00:00.0000000Z",
          "2021-08-24T00:00:00.0000000Z",
          "2021-08-23T00:00:00.0000000Z",
          "2021-08-22T00:00:00.0000000Z",
          "2021-08-21T00:00:00.0000000Z",
          "2021-08-20T00:00:00.0000000Z",
          "2021-08-19T00:00:00.0000000Z",
          "2021-08-18T00:00:00.0000000Z",
          "2021-08-17T00:00:00.0000000Z",
          "2021-08-16T00:00:00.0000000Z",
          "2021-08-15T00:00:00.0000000Z",
          "2021-08-14T00:00:00.0000000Z",
          "2021-08-13T00:00:00.0000000Z",
          "2021-08-12T00:00:00.0000000Z",
          "2021-08-11T00:00:00.0000000Z",
          "2021-08-10T00:00:00.0000000Z",
          "2021-08-09T00:00:00.0000000Z",
          "2021-08-08T00:00:00.0000000Z",
          "2021-08-07T00:00:00.0000000Z",
          "2021-08-06T00:00:00.0000000Z",
          "2021-08-05T00:00:00.0000000Z",
          "2021-08-04T00:00:00.0000000Z",
          "2021-08-03T00:00:00.0000000Z",
          "2021-08-02T00:00:00.0000000Z",
          "2021-08-01T00:00:00.0000000Z",
          "2021-07-31T00:00:00.0000000Z",
          "2021-07-30T00:00:00.0000000Z",
          "2021-07-29T00:00:00.0000000Z",
          "2021-07-28T00:00:00.0000000Z",
          "2021-07-27T00:00:00.0000000Z",
          "2021-07-26T00:00:00.0000000Z",
          "2021-07-25T00:00:00.0000000Z",
          "2021-07-24T00:00:00.0000000Z",
          "2021-07-23T00:00:00.0000000Z",
          "2021-07-22T00:00:00.0000000Z",
          "2021-07-21T00:00:00.0000000Z",
          "2021-07-20T00:00:00.0000000Z",
          "2021-07-19T00:00:00.0000000Z",
          "2021-07-18T00:00:00.0000000Z",
          "2021-07-17T00:00:00.0000000Z",
          "2021-07-16T00:00:00.0000000Z",
          "2021-07-15T00:00:00.0000000Z",
          "2021-07-14T00:00:00.0000000Z",
          "2021-07-13T00:00:00.0000000Z",
          "2021-07-12T00:00:00.0000000Z",
          "2021-07-11T00:00:00.0000000Z",
          "2021-07-10T00:00:00.0000000Z",
          "2021-07-09T00:00:00.0000000Z",
          "2021-07-08T00:00:00.0000000Z",
          "2021-07-07T00:00:00.0000000Z",
          "2021-07-06T00:00:00.0000000Z",
          "2021-07-05T00:00:00.0000000Z",
          "2021-07-04T00:00:00.0000000Z",
          "2021-07-03T00:00:00.0000000Z",
          "2021-07-02T00:00:00.0000000Z",
          "2021-07-01T00:00:00.0000000Z",
          "2021-06-30T00:00:00.0000000Z",
          "2021-06-29T00:00:00.0000000Z",
          "2021-06-28T00:00:00.0000000Z",
          "2021-06-27T00:00:00.0000000Z",
          "2021-06-26T00:00:00.0000000Z",
          "2021-06-25T00:00:00.0000000Z",
          "2021-06-24T00:00:00.0000000Z",
          "2021-06-23T00:00:00.0000000Z",
          "2021-06-22T00:00:00.0000000Z",
          "2021-06-21T00:00:00.0000000Z",
          "2021-06-20T00:00:00.0000000Z",
          "2021-06-19T00:00:00.0000000Z",
          "2021-06-18T00:00:00.0000000Z",
          "2021-06-17T00:00:00.0000000Z",
          "2021-06-16T00:00:00.0000000Z",
          "2021-06-15T00:00:00.0000000Z",
          "2021-06-14T00:00:00.0000000Z",
          "2021-06-13T00:00:00.0000000Z",
          "2021-06-12T00:00:00.0000000Z",
          "2021-06-11T00:00:00.0000000Z",
          "2021-06-10T00:00:00.0000000Z",
          "2021-06-09T00:00:00.0000000Z",
          "2021-06-08T00:00:00.0000000Z",
          "2021-06-07T00:00:00.0000000Z",
          "2021-06-06T00:00:00.0000000Z",
          "2021-06-05T00:00:00.0000000Z",
          "2021-06-04T00:00:00.0000000Z",
          "2021-06-03T00:00:00.0000000Z",
          "2021-06-02T00:00:00.0000000Z",
          "2021-06-01T00:00:00.0000000Z",
          "2021-05-31T00:00:00.0000000Z"
         ]
        }
       ],
       "layout": {
        "autosize": true,
        "colorway": [
         "#5E0DAC",
         "#FF4F00",
         "#375CB1",
         "#FF7400",
         "#FFF400",
         "#FF0056"
        ],
        "hovermode": "x",
        "margin": {
         "b": 15
        },
        "paper_bgcolor": "rgba(0, 0, 0, 0)",
        "plot_bgcolor": "rgba(0, 0, 0, 0)",
        "template": {
         "data": {
          "bar": [
           {
            "error_x": {
             "color": "#f2f5fa"
            },
            "error_y": {
             "color": "#f2f5fa"
            },
            "marker": {
             "line": {
              "color": "rgb(17,17,17)",
              "width": 0.5
             },
             "pattern": {
              "fillmode": "overlay",
              "size": 10,
              "solidity": 0.2
             }
            },
            "type": "bar"
           }
          ],
          "barpolar": [
           {
            "marker": {
             "line": {
              "color": "rgb(17,17,17)",
              "width": 0.5
             },
             "pattern": {
              "fillmode": "overlay",
              "size": 10,
              "solidity": 0.2
             }
            },
            "type": "barpolar"
           }
          ],
          "carpet": [
           {
            "aaxis": {
             "endlinecolor": "#A2B1C6",
             "gridcolor": "#506784",
             "linecolor": "#506784",
             "minorgridcolor": "#506784",
             "startlinecolor": "#A2B1C6"
            },
            "baxis": {
             "endlinecolor": "#A2B1C6",
             "gridcolor": "#506784",
             "linecolor": "#506784",
             "minorgridcolor": "#506784",
             "startlinecolor": "#A2B1C6"
            },
            "type": "carpet"
           }
          ],
          "choropleth": [
           {
            "colorbar": {
             "outlinewidth": 0,
             "ticks": ""
            },
            "type": "choropleth"
           }
          ],
          "contour": [
           {
            "colorbar": {
             "outlinewidth": 0,
             "ticks": ""
            },
            "colorscale": [
             [
              0,
              "#0d0887"
             ],
             [
              0.1111111111111111,
              "#46039f"
             ],
             [
              0.2222222222222222,
              "#7201a8"
             ],
             [
              0.3333333333333333,
              "#9c179e"
             ],
             [
              0.4444444444444444,
              "#bd3786"
             ],
             [
              0.5555555555555556,
              "#d8576b"
             ],
             [
              0.6666666666666666,
              "#ed7953"
             ],
             [
              0.7777777777777778,
              "#fb9f3a"
             ],
             [
              0.8888888888888888,
              "#fdca26"
             ],
             [
              1,
              "#f0f921"
             ]
            ],
            "type": "contour"
           }
          ],
          "contourcarpet": [
           {
            "colorbar": {
             "outlinewidth": 0,
             "ticks": ""
            },
            "type": "contourcarpet"
           }
          ],
          "heatmap": [
           {
            "colorbar": {
             "outlinewidth": 0,
             "ticks": ""
            },
            "colorscale": [
             [
              0,
              "#0d0887"
             ],
             [
              0.1111111111111111,
              "#46039f"
             ],
             [
              0.2222222222222222,
              "#7201a8"
             ],
             [
              0.3333333333333333,
              "#9c179e"
             ],
             [
              0.4444444444444444,
              "#bd3786"
             ],
             [
              0.5555555555555556,
              "#d8576b"
             ],
             [
              0.6666666666666666,
              "#ed7953"
             ],
             [
              0.7777777777777778,
              "#fb9f3a"
             ],
             [
              0.8888888888888888,
              "#fdca26"
             ],
             [
              1,
              "#f0f921"
             ]
            ],
            "type": "heatmap"
           }
          ],
          "heatmapgl": [
           {
            "colorbar": {
             "outlinewidth": 0,
             "ticks": ""
            },
            "colorscale": [
             [
              0,
              "#0d0887"
             ],
             [
              0.1111111111111111,
              "#46039f"
             ],
             [
              0.2222222222222222,
              "#7201a8"
             ],
             [
              0.3333333333333333,
              "#9c179e"
             ],
             [
              0.4444444444444444,
              "#bd3786"
             ],
             [
              0.5555555555555556,
              "#d8576b"
             ],
             [
              0.6666666666666666,
              "#ed7953"
             ],
             [
              0.7777777777777778,
              "#fb9f3a"
             ],
             [
              0.8888888888888888,
              "#fdca26"
             ],
             [
              1,
              "#f0f921"
             ]
            ],
            "type": "heatmapgl"
           }
          ],
          "histogram": [
           {
            "marker": {
             "pattern": {
              "fillmode": "overlay",
              "size": 10,
              "solidity": 0.2
             }
            },
            "type": "histogram"
           }
          ],
          "histogram2d": [
           {
            "colorbar": {
             "outlinewidth": 0,
             "ticks": ""
            },
            "colorscale": [
             [
              0,
              "#0d0887"
             ],
             [
              0.1111111111111111,
              "#46039f"
             ],
             [
              0.2222222222222222,
              "#7201a8"
             ],
             [
              0.3333333333333333,
              "#9c179e"
             ],
             [
              0.4444444444444444,
              "#bd3786"
             ],
             [
              0.5555555555555556,
              "#d8576b"
             ],
             [
              0.6666666666666666,
              "#ed7953"
             ],
             [
              0.7777777777777778,
              "#fb9f3a"
             ],
             [
              0.8888888888888888,
              "#fdca26"
             ],
             [
              1,
              "#f0f921"
             ]
            ],
            "type": "histogram2d"
           }
          ],
          "histogram2dcontour": [
           {
            "colorbar": {
             "outlinewidth": 0,
             "ticks": ""
            },
            "colorscale": [
             [
              0,
              "#0d0887"
             ],
             [
              0.1111111111111111,
              "#46039f"
             ],
             [
              0.2222222222222222,
              "#7201a8"
             ],
             [
              0.3333333333333333,
              "#9c179e"
             ],
             [
              0.4444444444444444,
              "#bd3786"
             ],
             [
              0.5555555555555556,
              "#d8576b"
             ],
             [
              0.6666666666666666,
              "#ed7953"
             ],
             [
              0.7777777777777778,
              "#fb9f3a"
             ],
             [
              0.8888888888888888,
              "#fdca26"
             ],
             [
              1,
              "#f0f921"
             ]
            ],
            "type": "histogram2dcontour"
           }
          ],
          "mesh3d": [
           {
            "colorbar": {
             "outlinewidth": 0,
             "ticks": ""
            },
            "type": "mesh3d"
           }
          ],
          "parcoords": [
           {
            "line": {
             "colorbar": {
              "outlinewidth": 0,
              "ticks": ""
             }
            },
            "type": "parcoords"
           }
          ],
          "pie": [
           {
            "automargin": true,
            "type": "pie"
           }
          ],
          "scatter": [
           {
            "marker": {
             "line": {
              "color": "#283442"
             }
            },
            "type": "scatter"
           }
          ],
          "scatter3d": [
           {
            "line": {
             "colorbar": {
              "outlinewidth": 0,
              "ticks": ""
             }
            },
            "marker": {
             "colorbar": {
              "outlinewidth": 0,
              "ticks": ""
             }
            },
            "type": "scatter3d"
           }
          ],
          "scattercarpet": [
           {
            "marker": {
             "colorbar": {
              "outlinewidth": 0,
              "ticks": ""
             }
            },
            "type": "scattercarpet"
           }
          ],
          "scattergeo": [
           {
            "marker": {
             "colorbar": {
              "outlinewidth": 0,
              "ticks": ""
             }
            },
            "type": "scattergeo"
           }
          ],
          "scattergl": [
           {
            "marker": {
             "line": {
              "color": "#283442"
             }
            },
            "type": "scattergl"
           }
          ],
          "scattermapbox": [
           {
            "marker": {
             "colorbar": {
              "outlinewidth": 0,
              "ticks": ""
             }
            },
            "type": "scattermapbox"
           }
          ],
          "scatterpolar": [
           {
            "marker": {
             "colorbar": {
              "outlinewidth": 0,
              "ticks": ""
             }
            },
            "type": "scatterpolar"
           }
          ],
          "scatterpolargl": [
           {
            "marker": {
             "colorbar": {
              "outlinewidth": 0,
              "ticks": ""
             }
            },
            "type": "scatterpolargl"
           }
          ],
          "scatterternary": [
           {
            "marker": {
             "colorbar": {
              "outlinewidth": 0,
              "ticks": ""
             }
            },
            "type": "scatterternary"
           }
          ],
          "surface": [
           {
            "colorbar": {
             "outlinewidth": 0,
             "ticks": ""
            },
            "colorscale": [
             [
              0,
              "#0d0887"
             ],
             [
              0.1111111111111111,
              "#46039f"
             ],
             [
              0.2222222222222222,
              "#7201a8"
             ],
             [
              0.3333333333333333,
              "#9c179e"
             ],
             [
              0.4444444444444444,
              "#bd3786"
             ],
             [
              0.5555555555555556,
              "#d8576b"
             ],
             [
              0.6666666666666666,
              "#ed7953"
             ],
             [
              0.7777777777777778,
              "#fb9f3a"
             ],
             [
              0.8888888888888888,
              "#fdca26"
             ],
             [
              1,
              "#f0f921"
             ]
            ],
            "type": "surface"
           }
          ],
          "table": [
           {
            "cells": {
             "fill": {
              "color": "#506784"
             },
             "line": {
              "color": "rgb(17,17,17)"
             }
            },
            "header": {
             "fill": {
              "color": "#2a3f5f"
             },
             "line": {
              "color": "rgb(17,17,17)"
             }
            },
            "type": "table"
           }
          ]
         },
         "layout": {
          "annotationdefaults": {
           "arrowcolor": "#f2f5fa",
           "arrowhead": 0,
           "arrowwidth": 1
          },
          "autotypenumbers": "strict",
          "coloraxis": {
           "colorbar": {
            "outlinewidth": 0,
            "ticks": ""
           }
          },
          "colorscale": {
           "diverging": [
            [
             0,
             "#8e0152"
            ],
            [
             0.1,
             "#c51b7d"
            ],
            [
             0.2,
             "#de77ae"
            ],
            [
             0.3,
             "#f1b6da"
            ],
            [
             0.4,
             "#fde0ef"
            ],
            [
             0.5,
             "#f7f7f7"
            ],
            [
             0.6,
             "#e6f5d0"
            ],
            [
             0.7,
             "#b8e186"
            ],
            [
             0.8,
             "#7fbc41"
            ],
            [
             0.9,
             "#4d9221"
            ],
            [
             1,
             "#276419"
            ]
           ],
           "sequential": [
            [
             0,
             "#0d0887"
            ],
            [
             0.1111111111111111,
             "#46039f"
            ],
            [
             0.2222222222222222,
             "#7201a8"
            ],
            [
             0.3333333333333333,
             "#9c179e"
            ],
            [
             0.4444444444444444,
             "#bd3786"
            ],
            [
             0.5555555555555556,
             "#d8576b"
            ],
            [
             0.6666666666666666,
             "#ed7953"
            ],
            [
             0.7777777777777778,
             "#fb9f3a"
            ],
            [
             0.8888888888888888,
             "#fdca26"
            ],
            [
             1,
             "#f0f921"
            ]
           ],
           "sequentialminus": [
            [
             0,
             "#0d0887"
            ],
            [
             0.1111111111111111,
             "#46039f"
            ],
            [
             0.2222222222222222,
             "#7201a8"
            ],
            [
             0.3333333333333333,
             "#9c179e"
            ],
            [
             0.4444444444444444,
             "#bd3786"
            ],
            [
             0.5555555555555556,
             "#d8576b"
            ],
            [
             0.6666666666666666,
             "#ed7953"
            ],
            [
             0.7777777777777778,
             "#fb9f3a"
            ],
            [
             0.8888888888888888,
             "#fdca26"
            ],
            [
             1,
             "#f0f921"
            ]
           ]
          },
          "colorway": [
           "#636efa",
           "#EF553B",
           "#00cc96",
           "#ab63fa",
           "#FFA15A",
           "#19d3f3",
           "#FF6692",
           "#B6E880",
           "#FF97FF",
           "#FECB52"
          ],
          "font": {
           "color": "#f2f5fa"
          },
          "geo": {
           "bgcolor": "rgb(17,17,17)",
           "lakecolor": "rgb(17,17,17)",
           "landcolor": "rgb(17,17,17)",
           "showlakes": true,
           "showland": true,
           "subunitcolor": "#506784"
          },
          "hoverlabel": {
           "align": "left"
          },
          "hovermode": "closest",
          "mapbox": {
           "style": "dark"
          },
          "paper_bgcolor": "rgb(17,17,17)",
          "plot_bgcolor": "rgb(17,17,17)",
          "polar": {
           "angularaxis": {
            "gridcolor": "#506784",
            "linecolor": "#506784",
            "ticks": ""
           },
           "bgcolor": "rgb(17,17,17)",
           "radialaxis": {
            "gridcolor": "#506784",
            "linecolor": "#506784",
            "ticks": ""
           }
          },
          "scene": {
           "xaxis": {
            "backgroundcolor": "rgb(17,17,17)",
            "gridcolor": "#506784",
            "gridwidth": 2,
            "linecolor": "#506784",
            "showbackground": true,
            "ticks": "",
            "zerolinecolor": "#C8D4E3"
           },
           "yaxis": {
            "backgroundcolor": "rgb(17,17,17)",
            "gridcolor": "#506784",
            "gridwidth": 2,
            "linecolor": "#506784",
            "showbackground": true,
            "ticks": "",
            "zerolinecolor": "#C8D4E3"
           },
           "zaxis": {
            "backgroundcolor": "rgb(17,17,17)",
            "gridcolor": "#506784",
            "gridwidth": 2,
            "linecolor": "#506784",
            "showbackground": true,
            "ticks": "",
            "zerolinecolor": "#C8D4E3"
           }
          },
          "shapedefaults": {
           "line": {
            "color": "#f2f5fa"
           }
          },
          "sliderdefaults": {
           "bgcolor": "#C8D4E3",
           "bordercolor": "rgb(17,17,17)",
           "borderwidth": 1,
           "tickwidth": 0
          },
          "ternary": {
           "aaxis": {
            "gridcolor": "#506784",
            "linecolor": "#506784",
            "ticks": ""
           },
           "baxis": {
            "gridcolor": "#506784",
            "linecolor": "#506784",
            "ticks": ""
           },
           "bgcolor": "rgb(17,17,17)",
           "caxis": {
            "gridcolor": "#506784",
            "linecolor": "#506784",
            "ticks": ""
           }
          },
          "title": {
           "x": 0.05
          },
          "updatemenudefaults": {
           "bgcolor": "#506784",
           "borderwidth": 0
          },
          "xaxis": {
           "automargin": true,
           "gridcolor": "#283442",
           "linecolor": "#506784",
           "ticks": "",
           "title": {
            "standoff": 15
           },
           "zerolinecolor": "#283442",
           "zerolinewidth": 2
          },
          "yaxis": {
           "automargin": true,
           "gridcolor": "#283442",
           "linecolor": "#506784",
           "ticks": "",
           "title": {
            "standoff": 15
           },
           "zerolinecolor": "#283442",
           "zerolinewidth": 2
          }
         }
        },
        "title": {
         "font": {
          "color": "white"
         },
         "text": "Cryptocurrency Prices",
         "x": 0.5
        }
       }
      },
      "text/html": [
       "<div>                            <div id=\"0f57873b-7996-442e-b819-f56ae5c4f836\" class=\"plotly-graph-div\" style=\"height:525px; width:100%;\"></div>            <script type=\"text/javascript\">                require([\"plotly\"], function(Plotly) {                    window.PLOTLYENV=window.PLOTLYENV || {};                                    if (document.getElementById(\"0f57873b-7996-442e-b819-f56ae5c4f836\")) {                    Plotly.newPlot(                        \"0f57873b-7996-442e-b819-f56ae5c4f836\",                        [{\"close\":[50983.1,52698.81,51789.17,49942.98,50018.6,49279.37,48839.86,47112.5,46993.71,48802.58,48942.94,49077.57,46848.9,48987.33,47682.45,49506.5,49284.63,48867.02,49342.4,46765.87,44707.98,44671.58,45902.46,47014.49,47109.65,47833.64,44422.14,45539.85,45596.74,46279.23,43845.6,44637.34,42869.58,40888.74,39722.41,38191.44,39152.3,39865.41,41488.5,42237.95,40000.0,40035.1,39470.48,37262.77,35428.26,34301.78,33647.26,32287.74,32147.5,29796.16,30842.03,31788.25,31533.91,31388.06,31868.68,32821.17,32734.14,33105.0,34246.9,33515.35,33824.26,32882.2,33885.1,34225.73,33697.78,35284.05,34688.3,33805.02,33516.11,35060.0,35904.28,34493.22,34675.3,32275.19,31594.63,34654.58,33688.35,32538.37,31609.82,35585.78,35484.79,35841.81,38095.17,38351.0,40162.37,40539.47,39034.6,35557.33,37338.44,36694.05,37414.0,33402.13,33575.91,35800.48,35534.6,36856.52,39248.55,37577.91,36685.0,37279.31],\"high\":[52959.0,52813.5,51921.0,50570.94,51094.0,50408.447,49141.907,48274.5,48916.5,49685.0,49325.0,49197.64,49387.6,49277.0,49893.5,50562.11,49567.1,49835.0,49436.1,47114.99,46041.62,47185.5,48076.52,47440.5,48240.5,47953.9,46236.7,46788.0,46759.0,46529.02,45386.81,44763.14,43401.9,41447.89,39973.94,39792.83,40464.5,42642.5,42460.0,42335.5,40665.0,40944.5,39579.0,40593.93,35451.04,34534.32,33684.17,32611.84,32950.0,31068.62,31905.5,32450.0,31960.5,32264.53,33198.0,33125.55,33346.0,34720.0,34663.5,34285.0,34137.04,33953.5,35098.28,35133.231,35305.1,35985.71,34959.72,34000.0,35137.79,36101.5,36675.0,35357.13,34772.94,32741.5,35517.22,35311.2,35000.0,33352.0,35763.8,36139.73,36464.63,38216.22,39600.5,40510.5,41380.02,41076.03,39409.4,37461.47,37711.865,38482.0,37573.99,34085.61,36812.5,36510.58,37935.8,39291.24,39490.0,38256.4,37934.3,37540.96],\"low\":[50492.638,51003.37,49483.721,49363.6,48333.0,48615.0,46515.5,46698.5,46828.0,47768.5,48244.88,46361.01,46284.8,47100.0,47593.66,49010.0,48058.1,48237.5,46642.0,43935.54,44216.47,44401.2,45654.14,45497.5,46000.0,44242.0,43714.36,45350.74,44642.21,42784.0,43131.97,42251.0,39834.0,37276.805,37425.0,37558.09,38660.01,39392.0,41007.51,38304.0,39229.47,38786.125,36386.19,35251.54,33869.9,33419.31,31993.5,31703.15,29499.0,29278.0,30400.0,31100.0,31162.7,31012.93,31064.77,31555.6,32190.0,32658.751,33331.0,32968.2,32255.24,32100.5,33770.01,33300.0,33080.3,34381.1,33310.0,32698.5,32700.88,34033.0,34233.35,33864.99,31983.883,30082.79,31271.02,32300.0,31670.89,28600.0,31238.69,33333.01,34718.21,35126.0,37350.0,38059.01,39461.1,38734.1,34780.57,34630.0,35944.0,35800.0,32408.53,30994.25,33316.0,35230.5,34820.0,35576.67,37154.13,35920.0,35660.031,34183.0],\"open\":[52698.8,51768.0,49944.89,50025.0,49279.38,48834.27,47110.33,46996.8,48802.58,48942.89,49081.08,46851.47,48991.57,47682.45,49504.53,49284.38,48870.21,49349.99,46769.02,44709.1,44675.34,45903.22,47014.38,47109.64,47833.64,44422.15,45570.0,45601.82,46280.0,43829.15,44628.11,42869.59,40888.73,39718.9,38189.4,39149.59,39859.18,41499.0,42233.66,40039.44,40035.1,39475.99,37262.76,35428.25,34291.67,33647.27,32287.75,32152.68,29796.15,30842.04,31786.37,31533.9,31389.57,31872.49,32815.75,32734.14,33077.43,34246.9,33515.35,33824.25,32875.95,33879.5,34225.72,33697.78,35284.06,34685.03,33805.01,33510.93,35060.0,35906.17,34493.22,34708.53,32275.9,31577.3,34654.87,33688.51,32538.9,31609.82,35585.79,35484.8,35840.96,38103.94,38351.0,40158.06,40537.93,39015.24,35557.32,37340.08,36694.91,37404.75,33402.13,33567.26,35800.48,35539.97,36856.53,39248.54,37581.83,36684.99,37276.23,35669.44],\"type\":\"candlestick\",\"x\":[\"2021-09-07T00:00:00.0000000Z\",\"2021-09-06T00:00:00.0000000Z\",\"2021-09-05T00:00:00.0000000Z\",\"2021-09-04T00:00:00.0000000Z\",\"2021-09-03T00:00:00.0000000Z\",\"2021-09-02T00:00:00.0000000Z\",\"2021-09-01T00:00:00.0000000Z\",\"2021-08-31T00:00:00.0000000Z\",\"2021-08-30T00:00:00.0000000Z\",\"2021-08-29T00:00:00.0000000Z\",\"2021-08-28T00:00:00.0000000Z\",\"2021-08-27T00:00:00.0000000Z\",\"2021-08-26T00:00:00.0000000Z\",\"2021-08-25T00:00:00.0000000Z\",\"2021-08-24T00:00:00.0000000Z\",\"2021-08-23T00:00:00.0000000Z\",\"2021-08-22T00:00:00.0000000Z\",\"2021-08-21T00:00:00.0000000Z\",\"2021-08-20T00:00:00.0000000Z\",\"2021-08-19T00:00:00.0000000Z\",\"2021-08-18T00:00:00.0000000Z\",\"2021-08-17T00:00:00.0000000Z\",\"2021-08-16T00:00:00.0000000Z\",\"2021-08-15T00:00:00.0000000Z\",\"2021-08-14T00:00:00.0000000Z\",\"2021-08-13T00:00:00.0000000Z\",\"2021-08-12T00:00:00.0000000Z\",\"2021-08-11T00:00:00.0000000Z\",\"2021-08-10T00:00:00.0000000Z\",\"2021-08-09T00:00:00.0000000Z\",\"2021-08-08T00:00:00.0000000Z\",\"2021-08-07T00:00:00.0000000Z\",\"2021-08-06T00:00:00.0000000Z\",\"2021-08-05T00:00:00.0000000Z\",\"2021-08-04T00:00:00.0000000Z\",\"2021-08-03T00:00:00.0000000Z\",\"2021-08-02T00:00:00.0000000Z\",\"2021-08-01T00:00:00.0000000Z\",\"2021-07-31T00:00:00.0000000Z\",\"2021-07-30T00:00:00.0000000Z\",\"2021-07-29T00:00:00.0000000Z\",\"2021-07-28T00:00:00.0000000Z\",\"2021-07-27T00:00:00.0000000Z\",\"2021-07-26T00:00:00.0000000Z\",\"2021-07-25T00:00:00.0000000Z\",\"2021-07-24T00:00:00.0000000Z\",\"2021-07-23T00:00:00.0000000Z\",\"2021-07-22T00:00:00.0000000Z\",\"2021-07-21T00:00:00.0000000Z\",\"2021-07-20T00:00:00.0000000Z\",\"2021-07-19T00:00:00.0000000Z\",\"2021-07-18T00:00:00.0000000Z\",\"2021-07-17T00:00:00.0000000Z\",\"2021-07-16T00:00:00.0000000Z\",\"2021-07-15T00:00:00.0000000Z\",\"2021-07-14T00:00:00.0000000Z\",\"2021-07-13T00:00:00.0000000Z\",\"2021-07-12T00:00:00.0000000Z\",\"2021-07-11T00:00:00.0000000Z\",\"2021-07-10T00:00:00.0000000Z\",\"2021-07-09T00:00:00.0000000Z\",\"2021-07-08T00:00:00.0000000Z\",\"2021-07-07T00:00:00.0000000Z\",\"2021-07-06T00:00:00.0000000Z\",\"2021-07-05T00:00:00.0000000Z\",\"2021-07-04T00:00:00.0000000Z\",\"2021-07-03T00:00:00.0000000Z\",\"2021-07-02T00:00:00.0000000Z\",\"2021-07-01T00:00:00.0000000Z\",\"2021-06-30T00:00:00.0000000Z\",\"2021-06-29T00:00:00.0000000Z\",\"2021-06-28T00:00:00.0000000Z\",\"2021-06-27T00:00:00.0000000Z\",\"2021-06-26T00:00:00.0000000Z\",\"2021-06-25T00:00:00.0000000Z\",\"2021-06-24T00:00:00.0000000Z\",\"2021-06-23T00:00:00.0000000Z\",\"2021-06-22T00:00:00.0000000Z\",\"2021-06-21T00:00:00.0000000Z\",\"2021-06-20T00:00:00.0000000Z\",\"2021-06-19T00:00:00.0000000Z\",\"2021-06-18T00:00:00.0000000Z\",\"2021-06-17T00:00:00.0000000Z\",\"2021-06-16T00:00:00.0000000Z\",\"2021-06-15T00:00:00.0000000Z\",\"2021-06-14T00:00:00.0000000Z\",\"2021-06-13T00:00:00.0000000Z\",\"2021-06-12T00:00:00.0000000Z\",\"2021-06-11T00:00:00.0000000Z\",\"2021-06-10T00:00:00.0000000Z\",\"2021-06-09T00:00:00.0000000Z\",\"2021-06-08T00:00:00.0000000Z\",\"2021-06-07T00:00:00.0000000Z\",\"2021-06-06T00:00:00.0000000Z\",\"2021-06-05T00:00:00.0000000Z\",\"2021-06-04T00:00:00.0000000Z\",\"2021-06-03T00:00:00.0000000Z\",\"2021-06-02T00:00:00.0000000Z\",\"2021-06-01T00:00:00.0000000Z\",\"2021-05-31T00:00:00.0000000Z\"]}],                        {\"autosize\":true,\"colorway\":[\"#5E0DAC\",\"#FF4F00\",\"#375CB1\",\"#FF7400\",\"#FFF400\",\"#FF0056\"],\"hovermode\":\"x\",\"margin\":{\"b\":15},\"paper_bgcolor\":\"rgba(0, 0, 0, 0)\",\"plot_bgcolor\":\"rgba(0, 0, 0, 0)\",\"template\":{\"data\":{\"bar\":[{\"error_x\":{\"color\":\"#f2f5fa\"},\"error_y\":{\"color\":\"#f2f5fa\"},\"marker\":{\"line\":{\"color\":\"rgb(17,17,17)\",\"width\":0.5},\"pattern\":{\"fillmode\":\"overlay\",\"size\":10,\"solidity\":0.2}},\"type\":\"bar\"}],\"barpolar\":[{\"marker\":{\"line\":{\"color\":\"rgb(17,17,17)\",\"width\":0.5},\"pattern\":{\"fillmode\":\"overlay\",\"size\":10,\"solidity\":0.2}},\"type\":\"barpolar\"}],\"carpet\":[{\"aaxis\":{\"endlinecolor\":\"#A2B1C6\",\"gridcolor\":\"#506784\",\"linecolor\":\"#506784\",\"minorgridcolor\":\"#506784\",\"startlinecolor\":\"#A2B1C6\"},\"baxis\":{\"endlinecolor\":\"#A2B1C6\",\"gridcolor\":\"#506784\",\"linecolor\":\"#506784\",\"minorgridcolor\":\"#506784\",\"startlinecolor\":\"#A2B1C6\"},\"type\":\"carpet\"}],\"choropleth\":[{\"colorbar\":{\"outlinewidth\":0,\"ticks\":\"\"},\"type\":\"choropleth\"}],\"contour\":[{\"colorbar\":{\"outlinewidth\":0,\"ticks\":\"\"},\"colorscale\":[[0.0,\"#0d0887\"],[0.1111111111111111,\"#46039f\"],[0.2222222222222222,\"#7201a8\"],[0.3333333333333333,\"#9c179e\"],[0.4444444444444444,\"#bd3786\"],[0.5555555555555556,\"#d8576b\"],[0.6666666666666666,\"#ed7953\"],[0.7777777777777778,\"#fb9f3a\"],[0.8888888888888888,\"#fdca26\"],[1.0,\"#f0f921\"]],\"type\":\"contour\"}],\"contourcarpet\":[{\"colorbar\":{\"outlinewidth\":0,\"ticks\":\"\"},\"type\":\"contourcarpet\"}],\"heatmap\":[{\"colorbar\":{\"outlinewidth\":0,\"ticks\":\"\"},\"colorscale\":[[0.0,\"#0d0887\"],[0.1111111111111111,\"#46039f\"],[0.2222222222222222,\"#7201a8\"],[0.3333333333333333,\"#9c179e\"],[0.4444444444444444,\"#bd3786\"],[0.5555555555555556,\"#d8576b\"],[0.6666666666666666,\"#ed7953\"],[0.7777777777777778,\"#fb9f3a\"],[0.8888888888888888,\"#fdca26\"],[1.0,\"#f0f921\"]],\"type\":\"heatmap\"}],\"heatmapgl\":[{\"colorbar\":{\"outlinewidth\":0,\"ticks\":\"\"},\"colorscale\":[[0.0,\"#0d0887\"],[0.1111111111111111,\"#46039f\"],[0.2222222222222222,\"#7201a8\"],[0.3333333333333333,\"#9c179e\"],[0.4444444444444444,\"#bd3786\"],[0.5555555555555556,\"#d8576b\"],[0.6666666666666666,\"#ed7953\"],[0.7777777777777778,\"#fb9f3a\"],[0.8888888888888888,\"#fdca26\"],[1.0,\"#f0f921\"]],\"type\":\"heatmapgl\"}],\"histogram\":[{\"marker\":{\"pattern\":{\"fillmode\":\"overlay\",\"size\":10,\"solidity\":0.2}},\"type\":\"histogram\"}],\"histogram2d\":[{\"colorbar\":{\"outlinewidth\":0,\"ticks\":\"\"},\"colorscale\":[[0.0,\"#0d0887\"],[0.1111111111111111,\"#46039f\"],[0.2222222222222222,\"#7201a8\"],[0.3333333333333333,\"#9c179e\"],[0.4444444444444444,\"#bd3786\"],[0.5555555555555556,\"#d8576b\"],[0.6666666666666666,\"#ed7953\"],[0.7777777777777778,\"#fb9f3a\"],[0.8888888888888888,\"#fdca26\"],[1.0,\"#f0f921\"]],\"type\":\"histogram2d\"}],\"histogram2dcontour\":[{\"colorbar\":{\"outlinewidth\":0,\"ticks\":\"\"},\"colorscale\":[[0.0,\"#0d0887\"],[0.1111111111111111,\"#46039f\"],[0.2222222222222222,\"#7201a8\"],[0.3333333333333333,\"#9c179e\"],[0.4444444444444444,\"#bd3786\"],[0.5555555555555556,\"#d8576b\"],[0.6666666666666666,\"#ed7953\"],[0.7777777777777778,\"#fb9f3a\"],[0.8888888888888888,\"#fdca26\"],[1.0,\"#f0f921\"]],\"type\":\"histogram2dcontour\"}],\"mesh3d\":[{\"colorbar\":{\"outlinewidth\":0,\"ticks\":\"\"},\"type\":\"mesh3d\"}],\"parcoords\":[{\"line\":{\"colorbar\":{\"outlinewidth\":0,\"ticks\":\"\"}},\"type\":\"parcoords\"}],\"pie\":[{\"automargin\":true,\"type\":\"pie\"}],\"scatter\":[{\"marker\":{\"line\":{\"color\":\"#283442\"}},\"type\":\"scatter\"}],\"scatter3d\":[{\"line\":{\"colorbar\":{\"outlinewidth\":0,\"ticks\":\"\"}},\"marker\":{\"colorbar\":{\"outlinewidth\":0,\"ticks\":\"\"}},\"type\":\"scatter3d\"}],\"scattercarpet\":[{\"marker\":{\"colorbar\":{\"outlinewidth\":0,\"ticks\":\"\"}},\"type\":\"scattercarpet\"}],\"scattergeo\":[{\"marker\":{\"colorbar\":{\"outlinewidth\":0,\"ticks\":\"\"}},\"type\":\"scattergeo\"}],\"scattergl\":[{\"marker\":{\"line\":{\"color\":\"#283442\"}},\"type\":\"scattergl\"}],\"scattermapbox\":[{\"marker\":{\"colorbar\":{\"outlinewidth\":0,\"ticks\":\"\"}},\"type\":\"scattermapbox\"}],\"scatterpolar\":[{\"marker\":{\"colorbar\":{\"outlinewidth\":0,\"ticks\":\"\"}},\"type\":\"scatterpolar\"}],\"scatterpolargl\":[{\"marker\":{\"colorbar\":{\"outlinewidth\":0,\"ticks\":\"\"}},\"type\":\"scatterpolargl\"}],\"scatterternary\":[{\"marker\":{\"colorbar\":{\"outlinewidth\":0,\"ticks\":\"\"}},\"type\":\"scatterternary\"}],\"surface\":[{\"colorbar\":{\"outlinewidth\":0,\"ticks\":\"\"},\"colorscale\":[[0.0,\"#0d0887\"],[0.1111111111111111,\"#46039f\"],[0.2222222222222222,\"#7201a8\"],[0.3333333333333333,\"#9c179e\"],[0.4444444444444444,\"#bd3786\"],[0.5555555555555556,\"#d8576b\"],[0.6666666666666666,\"#ed7953\"],[0.7777777777777778,\"#fb9f3a\"],[0.8888888888888888,\"#fdca26\"],[1.0,\"#f0f921\"]],\"type\":\"surface\"}],\"table\":[{\"cells\":{\"fill\":{\"color\":\"#506784\"},\"line\":{\"color\":\"rgb(17,17,17)\"}},\"header\":{\"fill\":{\"color\":\"#2a3f5f\"},\"line\":{\"color\":\"rgb(17,17,17)\"}},\"type\":\"table\"}]},\"layout\":{\"annotationdefaults\":{\"arrowcolor\":\"#f2f5fa\",\"arrowhead\":0,\"arrowwidth\":1},\"autotypenumbers\":\"strict\",\"coloraxis\":{\"colorbar\":{\"outlinewidth\":0,\"ticks\":\"\"}},\"colorscale\":{\"diverging\":[[0,\"#8e0152\"],[0.1,\"#c51b7d\"],[0.2,\"#de77ae\"],[0.3,\"#f1b6da\"],[0.4,\"#fde0ef\"],[0.5,\"#f7f7f7\"],[0.6,\"#e6f5d0\"],[0.7,\"#b8e186\"],[0.8,\"#7fbc41\"],[0.9,\"#4d9221\"],[1,\"#276419\"]],\"sequential\":[[0.0,\"#0d0887\"],[0.1111111111111111,\"#46039f\"],[0.2222222222222222,\"#7201a8\"],[0.3333333333333333,\"#9c179e\"],[0.4444444444444444,\"#bd3786\"],[0.5555555555555556,\"#d8576b\"],[0.6666666666666666,\"#ed7953\"],[0.7777777777777778,\"#fb9f3a\"],[0.8888888888888888,\"#fdca26\"],[1.0,\"#f0f921\"]],\"sequentialminus\":[[0.0,\"#0d0887\"],[0.1111111111111111,\"#46039f\"],[0.2222222222222222,\"#7201a8\"],[0.3333333333333333,\"#9c179e\"],[0.4444444444444444,\"#bd3786\"],[0.5555555555555556,\"#d8576b\"],[0.6666666666666666,\"#ed7953\"],[0.7777777777777778,\"#fb9f3a\"],[0.8888888888888888,\"#fdca26\"],[1.0,\"#f0f921\"]]},\"colorway\":[\"#636efa\",\"#EF553B\",\"#00cc96\",\"#ab63fa\",\"#FFA15A\",\"#19d3f3\",\"#FF6692\",\"#B6E880\",\"#FF97FF\",\"#FECB52\"],\"font\":{\"color\":\"#f2f5fa\"},\"geo\":{\"bgcolor\":\"rgb(17,17,17)\",\"lakecolor\":\"rgb(17,17,17)\",\"landcolor\":\"rgb(17,17,17)\",\"showlakes\":true,\"showland\":true,\"subunitcolor\":\"#506784\"},\"hoverlabel\":{\"align\":\"left\"},\"hovermode\":\"closest\",\"mapbox\":{\"style\":\"dark\"},\"paper_bgcolor\":\"rgb(17,17,17)\",\"plot_bgcolor\":\"rgb(17,17,17)\",\"polar\":{\"angularaxis\":{\"gridcolor\":\"#506784\",\"linecolor\":\"#506784\",\"ticks\":\"\"},\"bgcolor\":\"rgb(17,17,17)\",\"radialaxis\":{\"gridcolor\":\"#506784\",\"linecolor\":\"#506784\",\"ticks\":\"\"}},\"scene\":{\"xaxis\":{\"backgroundcolor\":\"rgb(17,17,17)\",\"gridcolor\":\"#506784\",\"gridwidth\":2,\"linecolor\":\"#506784\",\"showbackground\":true,\"ticks\":\"\",\"zerolinecolor\":\"#C8D4E3\"},\"yaxis\":{\"backgroundcolor\":\"rgb(17,17,17)\",\"gridcolor\":\"#506784\",\"gridwidth\":2,\"linecolor\":\"#506784\",\"showbackground\":true,\"ticks\":\"\",\"zerolinecolor\":\"#C8D4E3\"},\"zaxis\":{\"backgroundcolor\":\"rgb(17,17,17)\",\"gridcolor\":\"#506784\",\"gridwidth\":2,\"linecolor\":\"#506784\",\"showbackground\":true,\"ticks\":\"\",\"zerolinecolor\":\"#C8D4E3\"}},\"shapedefaults\":{\"line\":{\"color\":\"#f2f5fa\"}},\"sliderdefaults\":{\"bgcolor\":\"#C8D4E3\",\"bordercolor\":\"rgb(17,17,17)\",\"borderwidth\":1,\"tickwidth\":0},\"ternary\":{\"aaxis\":{\"gridcolor\":\"#506784\",\"linecolor\":\"#506784\",\"ticks\":\"\"},\"baxis\":{\"gridcolor\":\"#506784\",\"linecolor\":\"#506784\",\"ticks\":\"\"},\"bgcolor\":\"rgb(17,17,17)\",\"caxis\":{\"gridcolor\":\"#506784\",\"linecolor\":\"#506784\",\"ticks\":\"\"}},\"title\":{\"x\":0.05},\"updatemenudefaults\":{\"bgcolor\":\"#506784\",\"borderwidth\":0},\"xaxis\":{\"automargin\":true,\"gridcolor\":\"#283442\",\"linecolor\":\"#506784\",\"ticks\":\"\",\"title\":{\"standoff\":15},\"zerolinecolor\":\"#283442\",\"zerolinewidth\":2},\"yaxis\":{\"automargin\":true,\"gridcolor\":\"#283442\",\"linecolor\":\"#506784\",\"ticks\":\"\",\"title\":{\"standoff\":15},\"zerolinecolor\":\"#283442\",\"zerolinewidth\":2}}},\"title\":{\"font\":{\"color\":\"white\"},\"text\":\"Cryptocurrency Prices\",\"x\":0.5}},                        {\"responsive\": true}                    ).then(function(){\n",
       "                            \n",
       "var gd = document.getElementById('0f57873b-7996-442e-b819-f56ae5c4f836');\n",
       "var x = new MutationObserver(function (mutations, observer) {{\n",
       "        var display = window.getComputedStyle(gd).display;\n",
       "        if (!display || display === 'none') {{\n",
       "            console.log([gd, 'removed!']);\n",
       "            Plotly.purge(gd);\n",
       "            observer.disconnect();\n",
       "        }}\n",
       "}});\n",
       "\n",
       "// Listen for the removal of the full notebook cells\n",
       "var notebookContainer = gd.closest('#notebook-container');\n",
       "if (notebookContainer) {{\n",
       "    x.observe(notebookContainer, {childList: true});\n",
       "}}\n",
       "\n",
       "// Listen for the clearing of the current output cell\n",
       "var outputEl = gd.closest('.output');\n",
       "if (outputEl) {{\n",
       "    x.observe(outputEl, {childList: true});\n",
       "}}\n",
       "\n",
       "                        })                };                });            </script>        </div>"
      ]
     },
     "metadata": {},
     "output_type": "display_data"
    }
   ],
   "source": [
    "fig = go.Figure(data=[go.Candlestick(x=df.time_period_start,\n",
    "                                         open=df.price_open,\n",
    "                                         high=df.price_high,\n",
    "                                         low=df.price_low,\n",
    "                                         close=df.price_close, )]\n",
    "\n",
    "                    )\n",
    "\n",
    "fig.update_layout( colorway=[\"#5E0DAC\", '#FF4F00', '#375CB1', '#FF7400', '#FFF400', '#FF0056'],\n",
    "                  template='plotly_dark',\n",
    "                  paper_bgcolor='rgba(0, 0, 0, 0)',\n",
    "                  plot_bgcolor='rgba(0, 0, 0, 0)',\n",
    "                  margin={'b': 15},\n",
    "                  hovermode='x',\n",
    "                  autosize=True,\n",
    "                  title={'text': 'Cryptocurrency Prices', 'font': {'color': 'white'}, 'x': 0.5},)\n",
    "\n",
    "\n",
    "fig.show()\n"
   ]
  },
  {
   "cell_type": "code",
   "execution_count": null,
   "metadata": {},
   "outputs": [],
   "source": []
  },
  {
   "cell_type": "raw",
   "metadata": {},
   "source": [
    " # currency=value\n",
    "    url = f'https://rest.coinapi.io/v1/ohlcv/{currency}/USD/latest?period_id={time_change}'\n",
    "    #apikey = '6B081E29-633F-4CDD-9743-9219FBE0709B'\n",
    "    apikey='60F4A03A-174B-4FC1-973D-D05364E6AEEB'\n",
    "    #60F4A03A-174B-4FC1-973D-D05364E6AEEB\n",
    "    headers = {'X-CoinAPI-Key': apikey}\n",
    "    response = requests.get(url, headers=headers)\n",
    "    data = json.loads(response.text)\n",
    "    df = pd.DataFrame(data)"
   ]
  },
  {
   "cell_type": "code",
   "execution_count": 7,
   "metadata": {},
   "outputs": [],
   "source": [
    "df = pd.read_csv('https://raw.githubusercontent.com/Africa-Data-School/ADS-Assignment-5/main/Titanic%20Data.csv')"
   ]
  },
  {
   "cell_type": "code",
   "execution_count": 8,
   "metadata": {},
   "outputs": [
    {
     "data": {
      "text/html": [
       "<div>\n",
       "<style scoped>\n",
       "    .dataframe tbody tr th:only-of-type {\n",
       "        vertical-align: middle;\n",
       "    }\n",
       "\n",
       "    .dataframe tbody tr th {\n",
       "        vertical-align: top;\n",
       "    }\n",
       "\n",
       "    .dataframe thead th {\n",
       "        text-align: right;\n",
       "    }\n",
       "</style>\n",
       "<table border=\"1\" class=\"dataframe\">\n",
       "  <thead>\n",
       "    <tr style=\"text-align: right;\">\n",
       "      <th></th>\n",
       "      <th>PassengerId</th>\n",
       "      <th>Survived</th>\n",
       "      <th>Pclass</th>\n",
       "      <th>Name</th>\n",
       "      <th>Sex</th>\n",
       "      <th>Age</th>\n",
       "      <th>SibSp</th>\n",
       "      <th>Parch</th>\n",
       "      <th>Ticket</th>\n",
       "      <th>Fare</th>\n",
       "      <th>Cabin</th>\n",
       "      <th>Embarked</th>\n",
       "    </tr>\n",
       "  </thead>\n",
       "  <tbody>\n",
       "    <tr>\n",
       "      <th>0</th>\n",
       "      <td>1</td>\n",
       "      <td>0</td>\n",
       "      <td>3</td>\n",
       "      <td>Braund, Mr. Owen Harris</td>\n",
       "      <td>male</td>\n",
       "      <td>22.0</td>\n",
       "      <td>1</td>\n",
       "      <td>0</td>\n",
       "      <td>A/5 21171</td>\n",
       "      <td>7.2500</td>\n",
       "      <td>NaN</td>\n",
       "      <td>S</td>\n",
       "    </tr>\n",
       "    <tr>\n",
       "      <th>1</th>\n",
       "      <td>2</td>\n",
       "      <td>1</td>\n",
       "      <td>1</td>\n",
       "      <td>Cumings, Mrs. John Bradley (Florence Briggs Th...</td>\n",
       "      <td>female</td>\n",
       "      <td>38.0</td>\n",
       "      <td>1</td>\n",
       "      <td>0</td>\n",
       "      <td>PC 17599</td>\n",
       "      <td>71.2833</td>\n",
       "      <td>C85</td>\n",
       "      <td>C</td>\n",
       "    </tr>\n",
       "    <tr>\n",
       "      <th>2</th>\n",
       "      <td>3</td>\n",
       "      <td>1</td>\n",
       "      <td>3</td>\n",
       "      <td>Heikkinen, Miss. Laina</td>\n",
       "      <td>female</td>\n",
       "      <td>26.0</td>\n",
       "      <td>0</td>\n",
       "      <td>0</td>\n",
       "      <td>STON/O2. 3101282</td>\n",
       "      <td>7.9250</td>\n",
       "      <td>NaN</td>\n",
       "      <td>S</td>\n",
       "    </tr>\n",
       "    <tr>\n",
       "      <th>3</th>\n",
       "      <td>4</td>\n",
       "      <td>1</td>\n",
       "      <td>1</td>\n",
       "      <td>Futrelle, Mrs. Jacques Heath (Lily May Peel)</td>\n",
       "      <td>female</td>\n",
       "      <td>35.0</td>\n",
       "      <td>1</td>\n",
       "      <td>0</td>\n",
       "      <td>113803</td>\n",
       "      <td>53.1000</td>\n",
       "      <td>C123</td>\n",
       "      <td>S</td>\n",
       "    </tr>\n",
       "    <tr>\n",
       "      <th>4</th>\n",
       "      <td>5</td>\n",
       "      <td>0</td>\n",
       "      <td>3</td>\n",
       "      <td>Allen, Mr. William Henry</td>\n",
       "      <td>male</td>\n",
       "      <td>35.0</td>\n",
       "      <td>0</td>\n",
       "      <td>0</td>\n",
       "      <td>373450</td>\n",
       "      <td>8.0500</td>\n",
       "      <td>NaN</td>\n",
       "      <td>S</td>\n",
       "    </tr>\n",
       "  </tbody>\n",
       "</table>\n",
       "</div>"
      ],
      "text/plain": [
       "   PassengerId  Survived  Pclass  \\\n",
       "0            1         0       3   \n",
       "1            2         1       1   \n",
       "2            3         1       3   \n",
       "3            4         1       1   \n",
       "4            5         0       3   \n",
       "\n",
       "                                                Name     Sex   Age  SibSp  \\\n",
       "0                            Braund, Mr. Owen Harris    male  22.0      1   \n",
       "1  Cumings, Mrs. John Bradley (Florence Briggs Th...  female  38.0      1   \n",
       "2                             Heikkinen, Miss. Laina  female  26.0      0   \n",
       "3       Futrelle, Mrs. Jacques Heath (Lily May Peel)  female  35.0      1   \n",
       "4                           Allen, Mr. William Henry    male  35.0      0   \n",
       "\n",
       "   Parch            Ticket     Fare Cabin Embarked  \n",
       "0      0         A/5 21171   7.2500   NaN        S  \n",
       "1      0          PC 17599  71.2833   C85        C  \n",
       "2      0  STON/O2. 3101282   7.9250   NaN        S  \n",
       "3      0            113803  53.1000  C123        S  \n",
       "4      0            373450   8.0500   NaN        S  "
      ]
     },
     "execution_count": 8,
     "metadata": {},
     "output_type": "execute_result"
    }
   ],
   "source": [
    "df.head()"
   ]
  },
  {
   "cell_type": "code",
   "execution_count": null,
   "metadata": {},
   "outputs": [],
   "source": []
  }
 ],
 "metadata": {
  "kernelspec": {
   "display_name": "Python 3",
   "language": "python",
   "name": "python3"
  },
  "language_info": {
   "codemirror_mode": {
    "name": "ipython",
    "version": 3
   },
   "file_extension": ".py",
   "mimetype": "text/x-python",
   "name": "python",
   "nbconvert_exporter": "python",
   "pygments_lexer": "ipython3",
   "version": "3.8.8"
  }
 },
 "nbformat": 4,
 "nbformat_minor": 4
}
